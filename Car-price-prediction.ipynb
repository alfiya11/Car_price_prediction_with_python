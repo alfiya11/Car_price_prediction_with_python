{
 "cells": [
  {
   "cell_type": "markdown",
   "metadata": {},
   "source": [
    "> Importing all necessary libraries here :"
   ]
  },
  {
   "cell_type": "code",
   "execution_count": 2,
   "metadata": {
    "execution": {
     "iopub.execute_input": "2022-03-16T20:01:38.987454Z",
     "iopub.status.busy": "2022-03-16T20:01:38.987123Z",
     "iopub.status.idle": "2022-03-16T20:01:38.993489Z",
     "shell.execute_reply": "2022-03-16T20:01:38.992226Z",
     "shell.execute_reply.started": "2022-03-16T20:01:38.987423Z"
    }
   },
   "outputs": [],
   "source": [
    "# Importing all libraries :\n",
    "\n",
    "import warnings\n",
    "warnings.filterwarnings('ignore')\n",
    "\n",
    "import numpy as np\n",
    "import pandas as pd\n",
    "\n",
    "import matplotlib.pyplot as plt\n",
    "import seaborn as sns\n",
    "\n",
    "from sklearn.model_selection import train_test_split\n",
    "from sklearn.preprocessing import StandardScaler\n",
    "\n",
    "from sklearn.linear_model import LinearRegression\n",
    "#import statsmodels.api as sm\n",
    "from sklearn.feature_selection import RFE\n",
    "#from statsmodels.stats.outliers_influence import variance_inflation_factor\n",
    "from sklearn.metrics import r2_score\n",
    "from sklearn.metrics import mean_squared_error "
   ]
  },
  {
   "cell_type": "markdown",
   "metadata": {},
   "source": [
    "### 📖 `Reading the data` :"
   ]
  },
  {
   "cell_type": "code",
   "execution_count": 10,
   "metadata": {
    "execution": {
     "iopub.execute_input": "2022-03-16T20:01:39.032574Z",
     "iopub.status.busy": "2022-03-16T20:01:39.031848Z",
     "iopub.status.idle": "2022-03-16T20:01:39.067413Z",
     "shell.execute_reply": "2022-03-16T20:01:39.066782Z",
     "shell.execute_reply.started": "2022-03-16T20:01:39.032533Z"
    }
   },
   "outputs": [
    {
     "data": {
      "text/html": [
       "<div>\n",
       "<style scoped>\n",
       "    .dataframe tbody tr th:only-of-type {\n",
       "        vertical-align: middle;\n",
       "    }\n",
       "\n",
       "    .dataframe tbody tr th {\n",
       "        vertical-align: top;\n",
       "    }\n",
       "\n",
       "    .dataframe thead th {\n",
       "        text-align: right;\n",
       "    }\n",
       "</style>\n",
       "<table border=\"1\" class=\"dataframe\">\n",
       "  <thead>\n",
       "    <tr style=\"text-align: right;\">\n",
       "      <th></th>\n",
       "      <th>car_ID</th>\n",
       "      <th>symboling</th>\n",
       "      <th>CarName</th>\n",
       "      <th>fueltype</th>\n",
       "      <th>aspiration</th>\n",
       "      <th>doornumber</th>\n",
       "      <th>carbody</th>\n",
       "      <th>drivewheel</th>\n",
       "      <th>enginelocation</th>\n",
       "      <th>wheelbase</th>\n",
       "      <th>...</th>\n",
       "      <th>enginesize</th>\n",
       "      <th>fuelsystem</th>\n",
       "      <th>boreratio</th>\n",
       "      <th>stroke</th>\n",
       "      <th>compressionratio</th>\n",
       "      <th>horsepower</th>\n",
       "      <th>peakrpm</th>\n",
       "      <th>citympg</th>\n",
       "      <th>highwaympg</th>\n",
       "      <th>price</th>\n",
       "    </tr>\n",
       "  </thead>\n",
       "  <tbody>\n",
       "    <tr>\n",
       "      <th>0</th>\n",
       "      <td>1</td>\n",
       "      <td>3</td>\n",
       "      <td>alfa-romero giulia</td>\n",
       "      <td>gas</td>\n",
       "      <td>std</td>\n",
       "      <td>two</td>\n",
       "      <td>convertible</td>\n",
       "      <td>rwd</td>\n",
       "      <td>front</td>\n",
       "      <td>88.6</td>\n",
       "      <td>...</td>\n",
       "      <td>130</td>\n",
       "      <td>mpfi</td>\n",
       "      <td>3.47</td>\n",
       "      <td>2.68</td>\n",
       "      <td>9.0</td>\n",
       "      <td>111</td>\n",
       "      <td>5000</td>\n",
       "      <td>21</td>\n",
       "      <td>27</td>\n",
       "      <td>13495.0</td>\n",
       "    </tr>\n",
       "    <tr>\n",
       "      <th>1</th>\n",
       "      <td>2</td>\n",
       "      <td>3</td>\n",
       "      <td>alfa-romero stelvio</td>\n",
       "      <td>gas</td>\n",
       "      <td>std</td>\n",
       "      <td>two</td>\n",
       "      <td>convertible</td>\n",
       "      <td>rwd</td>\n",
       "      <td>front</td>\n",
       "      <td>88.6</td>\n",
       "      <td>...</td>\n",
       "      <td>130</td>\n",
       "      <td>mpfi</td>\n",
       "      <td>3.47</td>\n",
       "      <td>2.68</td>\n",
       "      <td>9.0</td>\n",
       "      <td>111</td>\n",
       "      <td>5000</td>\n",
       "      <td>21</td>\n",
       "      <td>27</td>\n",
       "      <td>16500.0</td>\n",
       "    </tr>\n",
       "    <tr>\n",
       "      <th>2</th>\n",
       "      <td>3</td>\n",
       "      <td>1</td>\n",
       "      <td>alfa-romero Quadrifoglio</td>\n",
       "      <td>gas</td>\n",
       "      <td>std</td>\n",
       "      <td>two</td>\n",
       "      <td>hatchback</td>\n",
       "      <td>rwd</td>\n",
       "      <td>front</td>\n",
       "      <td>94.5</td>\n",
       "      <td>...</td>\n",
       "      <td>152</td>\n",
       "      <td>mpfi</td>\n",
       "      <td>2.68</td>\n",
       "      <td>3.47</td>\n",
       "      <td>9.0</td>\n",
       "      <td>154</td>\n",
       "      <td>5000</td>\n",
       "      <td>19</td>\n",
       "      <td>26</td>\n",
       "      <td>16500.0</td>\n",
       "    </tr>\n",
       "    <tr>\n",
       "      <th>3</th>\n",
       "      <td>4</td>\n",
       "      <td>2</td>\n",
       "      <td>audi 100 ls</td>\n",
       "      <td>gas</td>\n",
       "      <td>std</td>\n",
       "      <td>four</td>\n",
       "      <td>sedan</td>\n",
       "      <td>fwd</td>\n",
       "      <td>front</td>\n",
       "      <td>99.8</td>\n",
       "      <td>...</td>\n",
       "      <td>109</td>\n",
       "      <td>mpfi</td>\n",
       "      <td>3.19</td>\n",
       "      <td>3.40</td>\n",
       "      <td>10.0</td>\n",
       "      <td>102</td>\n",
       "      <td>5500</td>\n",
       "      <td>24</td>\n",
       "      <td>30</td>\n",
       "      <td>13950.0</td>\n",
       "    </tr>\n",
       "    <tr>\n",
       "      <th>4</th>\n",
       "      <td>5</td>\n",
       "      <td>2</td>\n",
       "      <td>audi 100ls</td>\n",
       "      <td>gas</td>\n",
       "      <td>std</td>\n",
       "      <td>four</td>\n",
       "      <td>sedan</td>\n",
       "      <td>4wd</td>\n",
       "      <td>front</td>\n",
       "      <td>99.4</td>\n",
       "      <td>...</td>\n",
       "      <td>136</td>\n",
       "      <td>mpfi</td>\n",
       "      <td>3.19</td>\n",
       "      <td>3.40</td>\n",
       "      <td>8.0</td>\n",
       "      <td>115</td>\n",
       "      <td>5500</td>\n",
       "      <td>18</td>\n",
       "      <td>22</td>\n",
       "      <td>17450.0</td>\n",
       "    </tr>\n",
       "  </tbody>\n",
       "</table>\n",
       "<p>5 rows × 26 columns</p>\n",
       "</div>"
      ],
      "text/plain": [
       "   car_ID  symboling                   CarName fueltype aspiration doornumber  \\\n",
       "0       1          3        alfa-romero giulia      gas        std        two   \n",
       "1       2          3       alfa-romero stelvio      gas        std        two   \n",
       "2       3          1  alfa-romero Quadrifoglio      gas        std        two   \n",
       "3       4          2               audi 100 ls      gas        std       four   \n",
       "4       5          2                audi 100ls      gas        std       four   \n",
       "\n",
       "       carbody drivewheel enginelocation  wheelbase  ...  enginesize  \\\n",
       "0  convertible        rwd          front       88.6  ...         130   \n",
       "1  convertible        rwd          front       88.6  ...         130   \n",
       "2    hatchback        rwd          front       94.5  ...         152   \n",
       "3        sedan        fwd          front       99.8  ...         109   \n",
       "4        sedan        4wd          front       99.4  ...         136   \n",
       "\n",
       "   fuelsystem  boreratio  stroke compressionratio horsepower  peakrpm citympg  \\\n",
       "0        mpfi       3.47    2.68              9.0        111     5000      21   \n",
       "1        mpfi       3.47    2.68              9.0        111     5000      21   \n",
       "2        mpfi       2.68    3.47              9.0        154     5000      19   \n",
       "3        mpfi       3.19    3.40             10.0        102     5500      24   \n",
       "4        mpfi       3.19    3.40              8.0        115     5500      18   \n",
       "\n",
       "   highwaympg    price  \n",
       "0          27  13495.0  \n",
       "1          27  16500.0  \n",
       "2          26  16500.0  \n",
       "3          30  13950.0  \n",
       "4          22  17450.0  \n",
       "\n",
       "[5 rows x 26 columns]"
      ]
     },
     "execution_count": 10,
     "metadata": {},
     "output_type": "execute_result"
    }
   ],
   "source": [
    "cars_data = pd.read_csv('CarPrice.csv')\n",
    "cars_data.head()"
   ]
  },
  {
   "cell_type": "code",
   "execution_count": 11,
   "metadata": {
    "execution": {
     "iopub.execute_input": "2022-03-16T20:01:39.069375Z",
     "iopub.status.busy": "2022-03-16T20:01:39.068709Z",
     "iopub.status.idle": "2022-03-16T20:01:39.075458Z",
     "shell.execute_reply": "2022-03-16T20:01:39.074253Z",
     "shell.execute_reply.started": "2022-03-16T20:01:39.069338Z"
    }
   },
   "outputs": [
    {
     "data": {
      "text/plain": [
       "(205, 26)"
      ]
     },
     "execution_count": 11,
     "metadata": {},
     "output_type": "execute_result"
    }
   ],
   "source": [
    "# Shape of the data :\n",
    "cars_data.shape"
   ]
  },
  {
   "cell_type": "code",
   "execution_count": 12,
   "metadata": {
    "execution": {
     "iopub.execute_input": "2022-03-16T20:01:39.077361Z",
     "iopub.status.busy": "2022-03-16T20:01:39.076757Z",
     "iopub.status.idle": "2022-03-16T20:01:39.099652Z",
     "shell.execute_reply": "2022-03-16T20:01:39.09876Z",
     "shell.execute_reply.started": "2022-03-16T20:01:39.077326Z"
    }
   },
   "outputs": [
    {
     "name": "stdout",
     "output_type": "stream",
     "text": [
      "<class 'pandas.core.frame.DataFrame'>\n",
      "RangeIndex: 205 entries, 0 to 204\n",
      "Data columns (total 26 columns):\n",
      " #   Column            Non-Null Count  Dtype  \n",
      "---  ------            --------------  -----  \n",
      " 0   car_ID            205 non-null    int64  \n",
      " 1   symboling         205 non-null    int64  \n",
      " 2   CarName           205 non-null    object \n",
      " 3   fueltype          205 non-null    object \n",
      " 4   aspiration        205 non-null    object \n",
      " 5   doornumber        205 non-null    object \n",
      " 6   carbody           205 non-null    object \n",
      " 7   drivewheel        205 non-null    object \n",
      " 8   enginelocation    205 non-null    object \n",
      " 9   wheelbase         205 non-null    float64\n",
      " 10  carlength         205 non-null    float64\n",
      " 11  carwidth          205 non-null    float64\n",
      " 12  carheight         205 non-null    float64\n",
      " 13  curbweight        205 non-null    int64  \n",
      " 14  enginetype        205 non-null    object \n",
      " 15  cylindernumber    205 non-null    object \n",
      " 16  enginesize        205 non-null    int64  \n",
      " 17  fuelsystem        205 non-null    object \n",
      " 18  boreratio         205 non-null    float64\n",
      " 19  stroke            205 non-null    float64\n",
      " 20  compressionratio  205 non-null    float64\n",
      " 21  horsepower        205 non-null    int64  \n",
      " 22  peakrpm           205 non-null    int64  \n",
      " 23  citympg           205 non-null    int64  \n",
      " 24  highwaympg        205 non-null    int64  \n",
      " 25  price             205 non-null    float64\n",
      "dtypes: float64(8), int64(8), object(10)\n",
      "memory usage: 41.8+ KB\n"
     ]
    }
   ],
   "source": [
    "# Dataframe information :\n",
    "cars_data.info()"
   ]
  },
  {
   "cell_type": "markdown",
   "metadata": {},
   "source": [
    "> Good news so far 😊, there are no more missing values in our dataset."
   ]
  },
  {
   "cell_type": "code",
   "execution_count": 13,
   "metadata": {
    "execution": {
     "iopub.execute_input": "2022-03-16T20:01:39.102571Z",
     "iopub.status.busy": "2022-03-16T20:01:39.101839Z",
     "iopub.status.idle": "2022-03-16T20:01:39.156055Z",
     "shell.execute_reply": "2022-03-16T20:01:39.15531Z",
     "shell.execute_reply.started": "2022-03-16T20:01:39.102526Z"
    }
   },
   "outputs": [
    {
     "data": {
      "text/html": [
       "<div>\n",
       "<style scoped>\n",
       "    .dataframe tbody tr th:only-of-type {\n",
       "        vertical-align: middle;\n",
       "    }\n",
       "\n",
       "    .dataframe tbody tr th {\n",
       "        vertical-align: top;\n",
       "    }\n",
       "\n",
       "    .dataframe thead th {\n",
       "        text-align: right;\n",
       "    }\n",
       "</style>\n",
       "<table border=\"1\" class=\"dataframe\">\n",
       "  <thead>\n",
       "    <tr style=\"text-align: right;\">\n",
       "      <th></th>\n",
       "      <th>car_ID</th>\n",
       "      <th>symboling</th>\n",
       "      <th>wheelbase</th>\n",
       "      <th>carlength</th>\n",
       "      <th>carwidth</th>\n",
       "      <th>carheight</th>\n",
       "      <th>curbweight</th>\n",
       "      <th>enginesize</th>\n",
       "      <th>boreratio</th>\n",
       "      <th>stroke</th>\n",
       "      <th>compressionratio</th>\n",
       "      <th>horsepower</th>\n",
       "      <th>peakrpm</th>\n",
       "      <th>citympg</th>\n",
       "      <th>highwaympg</th>\n",
       "      <th>price</th>\n",
       "    </tr>\n",
       "  </thead>\n",
       "  <tbody>\n",
       "    <tr>\n",
       "      <th>count</th>\n",
       "      <td>205.000000</td>\n",
       "      <td>205.000000</td>\n",
       "      <td>205.000000</td>\n",
       "      <td>205.000000</td>\n",
       "      <td>205.000000</td>\n",
       "      <td>205.000000</td>\n",
       "      <td>205.000000</td>\n",
       "      <td>205.000000</td>\n",
       "      <td>205.000000</td>\n",
       "      <td>205.000000</td>\n",
       "      <td>205.000000</td>\n",
       "      <td>205.000000</td>\n",
       "      <td>205.000000</td>\n",
       "      <td>205.000000</td>\n",
       "      <td>205.000000</td>\n",
       "      <td>205.000000</td>\n",
       "    </tr>\n",
       "    <tr>\n",
       "      <th>mean</th>\n",
       "      <td>103.000000</td>\n",
       "      <td>0.834146</td>\n",
       "      <td>98.756585</td>\n",
       "      <td>174.049268</td>\n",
       "      <td>65.907805</td>\n",
       "      <td>53.724878</td>\n",
       "      <td>2555.565854</td>\n",
       "      <td>126.907317</td>\n",
       "      <td>3.329756</td>\n",
       "      <td>3.255415</td>\n",
       "      <td>10.142537</td>\n",
       "      <td>104.117073</td>\n",
       "      <td>5125.121951</td>\n",
       "      <td>25.219512</td>\n",
       "      <td>30.751220</td>\n",
       "      <td>13276.710571</td>\n",
       "    </tr>\n",
       "    <tr>\n",
       "      <th>std</th>\n",
       "      <td>59.322565</td>\n",
       "      <td>1.245307</td>\n",
       "      <td>6.021776</td>\n",
       "      <td>12.337289</td>\n",
       "      <td>2.145204</td>\n",
       "      <td>2.443522</td>\n",
       "      <td>520.680204</td>\n",
       "      <td>41.642693</td>\n",
       "      <td>0.270844</td>\n",
       "      <td>0.313597</td>\n",
       "      <td>3.972040</td>\n",
       "      <td>39.544167</td>\n",
       "      <td>476.985643</td>\n",
       "      <td>6.542142</td>\n",
       "      <td>6.886443</td>\n",
       "      <td>7988.852332</td>\n",
       "    </tr>\n",
       "    <tr>\n",
       "      <th>min</th>\n",
       "      <td>1.000000</td>\n",
       "      <td>-2.000000</td>\n",
       "      <td>86.600000</td>\n",
       "      <td>141.100000</td>\n",
       "      <td>60.300000</td>\n",
       "      <td>47.800000</td>\n",
       "      <td>1488.000000</td>\n",
       "      <td>61.000000</td>\n",
       "      <td>2.540000</td>\n",
       "      <td>2.070000</td>\n",
       "      <td>7.000000</td>\n",
       "      <td>48.000000</td>\n",
       "      <td>4150.000000</td>\n",
       "      <td>13.000000</td>\n",
       "      <td>16.000000</td>\n",
       "      <td>5118.000000</td>\n",
       "    </tr>\n",
       "    <tr>\n",
       "      <th>25%</th>\n",
       "      <td>52.000000</td>\n",
       "      <td>0.000000</td>\n",
       "      <td>94.500000</td>\n",
       "      <td>166.300000</td>\n",
       "      <td>64.100000</td>\n",
       "      <td>52.000000</td>\n",
       "      <td>2145.000000</td>\n",
       "      <td>97.000000</td>\n",
       "      <td>3.150000</td>\n",
       "      <td>3.110000</td>\n",
       "      <td>8.600000</td>\n",
       "      <td>70.000000</td>\n",
       "      <td>4800.000000</td>\n",
       "      <td>19.000000</td>\n",
       "      <td>25.000000</td>\n",
       "      <td>7788.000000</td>\n",
       "    </tr>\n",
       "    <tr>\n",
       "      <th>50%</th>\n",
       "      <td>103.000000</td>\n",
       "      <td>1.000000</td>\n",
       "      <td>97.000000</td>\n",
       "      <td>173.200000</td>\n",
       "      <td>65.500000</td>\n",
       "      <td>54.100000</td>\n",
       "      <td>2414.000000</td>\n",
       "      <td>120.000000</td>\n",
       "      <td>3.310000</td>\n",
       "      <td>3.290000</td>\n",
       "      <td>9.000000</td>\n",
       "      <td>95.000000</td>\n",
       "      <td>5200.000000</td>\n",
       "      <td>24.000000</td>\n",
       "      <td>30.000000</td>\n",
       "      <td>10295.000000</td>\n",
       "    </tr>\n",
       "    <tr>\n",
       "      <th>75%</th>\n",
       "      <td>154.000000</td>\n",
       "      <td>2.000000</td>\n",
       "      <td>102.400000</td>\n",
       "      <td>183.100000</td>\n",
       "      <td>66.900000</td>\n",
       "      <td>55.500000</td>\n",
       "      <td>2935.000000</td>\n",
       "      <td>141.000000</td>\n",
       "      <td>3.580000</td>\n",
       "      <td>3.410000</td>\n",
       "      <td>9.400000</td>\n",
       "      <td>116.000000</td>\n",
       "      <td>5500.000000</td>\n",
       "      <td>30.000000</td>\n",
       "      <td>34.000000</td>\n",
       "      <td>16503.000000</td>\n",
       "    </tr>\n",
       "    <tr>\n",
       "      <th>max</th>\n",
       "      <td>205.000000</td>\n",
       "      <td>3.000000</td>\n",
       "      <td>120.900000</td>\n",
       "      <td>208.100000</td>\n",
       "      <td>72.300000</td>\n",
       "      <td>59.800000</td>\n",
       "      <td>4066.000000</td>\n",
       "      <td>326.000000</td>\n",
       "      <td>3.940000</td>\n",
       "      <td>4.170000</td>\n",
       "      <td>23.000000</td>\n",
       "      <td>288.000000</td>\n",
       "      <td>6600.000000</td>\n",
       "      <td>49.000000</td>\n",
       "      <td>54.000000</td>\n",
       "      <td>45400.000000</td>\n",
       "    </tr>\n",
       "  </tbody>\n",
       "</table>\n",
       "</div>"
      ],
      "text/plain": [
       "           car_ID   symboling   wheelbase   carlength    carwidth   carheight  \\\n",
       "count  205.000000  205.000000  205.000000  205.000000  205.000000  205.000000   \n",
       "mean   103.000000    0.834146   98.756585  174.049268   65.907805   53.724878   \n",
       "std     59.322565    1.245307    6.021776   12.337289    2.145204    2.443522   \n",
       "min      1.000000   -2.000000   86.600000  141.100000   60.300000   47.800000   \n",
       "25%     52.000000    0.000000   94.500000  166.300000   64.100000   52.000000   \n",
       "50%    103.000000    1.000000   97.000000  173.200000   65.500000   54.100000   \n",
       "75%    154.000000    2.000000  102.400000  183.100000   66.900000   55.500000   \n",
       "max    205.000000    3.000000  120.900000  208.100000   72.300000   59.800000   \n",
       "\n",
       "        curbweight  enginesize   boreratio      stroke  compressionratio  \\\n",
       "count   205.000000  205.000000  205.000000  205.000000        205.000000   \n",
       "mean   2555.565854  126.907317    3.329756    3.255415         10.142537   \n",
       "std     520.680204   41.642693    0.270844    0.313597          3.972040   \n",
       "min    1488.000000   61.000000    2.540000    2.070000          7.000000   \n",
       "25%    2145.000000   97.000000    3.150000    3.110000          8.600000   \n",
       "50%    2414.000000  120.000000    3.310000    3.290000          9.000000   \n",
       "75%    2935.000000  141.000000    3.580000    3.410000          9.400000   \n",
       "max    4066.000000  326.000000    3.940000    4.170000         23.000000   \n",
       "\n",
       "       horsepower      peakrpm     citympg  highwaympg         price  \n",
       "count  205.000000   205.000000  205.000000  205.000000    205.000000  \n",
       "mean   104.117073  5125.121951   25.219512   30.751220  13276.710571  \n",
       "std     39.544167   476.985643    6.542142    6.886443   7988.852332  \n",
       "min     48.000000  4150.000000   13.000000   16.000000   5118.000000  \n",
       "25%     70.000000  4800.000000   19.000000   25.000000   7788.000000  \n",
       "50%     95.000000  5200.000000   24.000000   30.000000  10295.000000  \n",
       "75%    116.000000  5500.000000   30.000000   34.000000  16503.000000  \n",
       "max    288.000000  6600.000000   49.000000   54.000000  45400.000000  "
      ]
     },
     "execution_count": 13,
     "metadata": {},
     "output_type": "execute_result"
    }
   ],
   "source": [
    "# Describing the data :\n",
    "cars_data.describe()"
   ]
  },
  {
   "cell_type": "markdown",
   "metadata": {},
   "source": [
    "### 🧹 `Data Cleaning` :"
   ]
  },
  {
   "cell_type": "markdown",
   "metadata": {},
   "source": [
    "> 1️⃣  **`Dealing with duplicates`** :"
   ]
  },
  {
   "cell_type": "code",
   "execution_count": 14,
   "metadata": {
    "execution": {
     "iopub.execute_input": "2022-03-16T20:01:39.157612Z",
     "iopub.status.busy": "2022-03-16T20:01:39.156972Z",
     "iopub.status.idle": "2022-03-16T20:01:39.164435Z",
     "shell.execute_reply": "2022-03-16T20:01:39.163819Z",
     "shell.execute_reply.started": "2022-03-16T20:01:39.157577Z"
    }
   },
   "outputs": [
    {
     "data": {
      "text/plain": [
       "0"
      ]
     },
     "execution_count": 14,
     "metadata": {},
     "output_type": "execute_result"
    }
   ],
   "source": [
    "cars_data.duplicated(subset = ['car_ID']).sum()"
   ]
  },
  {
   "cell_type": "markdown",
   "metadata": {},
   "source": [
    "> Good news again 😁, there are no duplicates in our dataset."
   ]
  },
  {
   "cell_type": "markdown",
   "metadata": {},
   "source": [
    "> 2️⃣  **`Dealing with Non significant columns`** :"
   ]
  },
  {
   "cell_type": "code",
   "execution_count": 15,
   "metadata": {
    "execution": {
     "iopub.execute_input": "2022-03-16T20:01:39.165993Z",
     "iopub.status.busy": "2022-03-16T20:01:39.165343Z",
     "iopub.status.idle": "2022-03-16T20:01:39.178066Z",
     "shell.execute_reply": "2022-03-16T20:01:39.177171Z",
     "shell.execute_reply.started": "2022-03-16T20:01:39.165955Z"
    }
   },
   "outputs": [],
   "source": [
    "cars_data = cars_data.drop(['car_ID'], axis =1) # Index column is an insignificant column."
   ]
  },
  {
   "cell_type": "code",
   "execution_count": 16,
   "metadata": {
    "execution": {
     "iopub.execute_input": "2022-03-16T20:01:39.180124Z",
     "iopub.status.busy": "2022-03-16T20:01:39.179862Z",
     "iopub.status.idle": "2022-03-16T20:01:39.195345Z",
     "shell.execute_reply": "2022-03-16T20:01:39.194348Z",
     "shell.execute_reply.started": "2022-03-16T20:01:39.180095Z"
    }
   },
   "outputs": [
    {
     "data": {
      "text/plain": [
       "symboling           0\n",
       "CarName             0\n",
       "fueltype            0\n",
       "aspiration          0\n",
       "doornumber          0\n",
       "carbody             0\n",
       "drivewheel          0\n",
       "enginelocation      0\n",
       "wheelbase           0\n",
       "carlength           0\n",
       "carwidth            0\n",
       "carheight           0\n",
       "curbweight          0\n",
       "enginetype          0\n",
       "cylindernumber      0\n",
       "enginesize          0\n",
       "fuelsystem          0\n",
       "boreratio           0\n",
       "stroke              0\n",
       "compressionratio    0\n",
       "horsepower          0\n",
       "peakrpm             0\n",
       "citympg             0\n",
       "highwaympg          0\n",
       "price               0\n",
       "dtype: int64"
      ]
     },
     "execution_count": 16,
     "metadata": {},
     "output_type": "execute_result"
    }
   ],
   "source": [
    "cars_data.isnull().sum()"
   ]
  },
  {
   "cell_type": "markdown",
   "metadata": {},
   "source": [
    "> Seems like our dataset is already processed 🤩"
   ]
  },
  {
   "cell_type": "markdown",
   "metadata": {
    "execution": {
     "iopub.execute_input": "2022-03-16T19:10:30.211244Z",
     "iopub.status.busy": "2022-03-16T19:10:30.210318Z",
     "iopub.status.idle": "2022-03-16T19:10:30.219364Z",
     "shell.execute_reply": "2022-03-16T19:10:30.218417Z",
     "shell.execute_reply.started": "2022-03-16T19:10:30.211194Z"
    }
   },
   "source": [
    "### 🌇 `Exploring columns` :\n",
    "> - **`Symboling`** : Its assigned insurance **risk rating**, A value of $+3$ indicates that the auto is **risky**, $-3$ that it is probably pretty **safe**. \t\t"
   ]
  },
  {
   "cell_type": "code",
   "execution_count": 17,
   "metadata": {
    "execution": {
     "iopub.execute_input": "2022-03-16T20:01:39.24035Z",
     "iopub.status.busy": "2022-03-16T20:01:39.239921Z",
     "iopub.status.idle": "2022-03-16T20:01:39.553419Z",
     "shell.execute_reply": "2022-03-16T20:01:39.552552Z",
     "shell.execute_reply.started": "2022-03-16T20:01:39.240318Z"
    }
   },
   "outputs": [
    {
     "data": {
      "text/plain": [
       "<seaborn.axisgrid.PairGrid at 0x1746ca77af0>"
      ]
     },
     "execution_count": 17,
     "metadata": {},
     "output_type": "execute_result"
    },
    {
     "data": {
      "image/png": "[encoded data removed]",
      "text/plain": [
       "<Figure size 180x180 with 1 Axes>"
      ]
     },
     "metadata": {
      "needs_background": "light"
     },
     "output_type": "display_data"
    }
   ],
   "source": [
    "# Exploring \"symboling\" column :\n",
    "sns.pairplot(y_vars = 'symboling', x_vars = 'price' ,data = cars_data)"
   ]
  },
  {
   "cell_type": "code",
   "execution_count": 18,
   "metadata": {},
   "outputs": [
    {
     "data": {
      "image/png": "[encoded data removed]",
      "text/plain": [
       "<Figure size 432x288 with 1 Axes>"
      ]
     },
     "metadata": {},
     "output_type": "display_data"
    }
   ],
   "source": [
    "with plt.xkcd():\n",
    "    plt.hist(cars_data[\"symboling\"], bins=10, rwidth=0.8)"
   ]
  },
  {
   "cell_type": "markdown",
   "metadata": {},
   "source": [
    "> We can see that there is no cars with **-3** symboling. "
   ]
  },
  {
   "cell_type": "code",
   "execution_count": 19,
   "metadata": {
    "execution": {
     "iopub.execute_input": "2022-03-16T20:01:39.55554Z",
     "iopub.status.busy": "2022-03-16T20:01:39.555279Z",
     "iopub.status.idle": "2022-03-16T20:01:39.564201Z",
     "shell.execute_reply": "2022-03-16T20:01:39.563356Z",
     "shell.execute_reply.started": "2022-03-16T20:01:39.55551Z"
    }
   },
   "outputs": [
    {
     "data": {
      "text/plain": [
       "toyota corona           6\n",
       "toyota corolla          6\n",
       "peugeot 504             6\n",
       "subaru dl               4\n",
       "mitsubishi mirage g4    3\n",
       "                       ..\n",
       "mazda glc 4             1\n",
       "mazda rx2 coupe         1\n",
       "maxda glc deluxe        1\n",
       "maxda rx3               1\n",
       "volvo 246               1\n",
       "Name: CarName, Length: 147, dtype: int64"
      ]
     },
     "execution_count": 19,
     "metadata": {},
     "output_type": "execute_result"
    }
   ],
   "source": [
    "# Exploring Column CarName :\n",
    "cars_data['CarName'].value_counts()"
   ]
  },
  {
   "cell_type": "markdown",
   "metadata": {},
   "source": [
    "> We see that \"**CarName**\" is comprised of two parts :\n",
    "> - The first word is the name of **car company**. \n",
    "> - The second is the **car model**. "
   ]
  },
  {
   "cell_type": "code",
   "execution_count": 20,
   "metadata": {
    "execution": {
     "iopub.execute_input": "2022-03-16T20:01:39.56616Z",
     "iopub.status.busy": "2022-03-16T20:01:39.565602Z",
     "iopub.status.idle": "2022-03-16T20:01:39.57776Z",
     "shell.execute_reply": "2022-03-16T20:01:39.576515Z",
     "shell.execute_reply.started": "2022-03-16T20:01:39.566117Z"
    }
   },
   "outputs": [],
   "source": [
    "# We create a new column \"car_company\" in our dataset :\n",
    "cars_data['car_company'] = cars_data['CarName'].apply(lambda x:x.split(' ')[0]) "
   ]
  },
  {
   "cell_type": "code",
   "execution_count": 21,
   "metadata": {
    "execution": {
     "iopub.execute_input": "2022-03-16T20:01:39.579785Z",
     "iopub.status.busy": "2022-03-16T20:01:39.579508Z",
     "iopub.status.idle": "2022-03-16T20:01:39.614228Z",
     "shell.execute_reply": "2022-03-16T20:01:39.613174Z",
     "shell.execute_reply.started": "2022-03-16T20:01:39.579744Z"
    }
   },
   "outputs": [
    {
     "data": {
      "text/plain": [
       "0    alfa-romero\n",
       "1    alfa-romero\n",
       "2    alfa-romero\n",
       "3           audi\n",
       "4           audi\n",
       "Name: car_company, dtype: object"
      ]
     },
     "execution_count": 21,
     "metadata": {},
     "output_type": "execute_result"
    }
   ],
   "source": [
    "# Rechecking :\n",
    "cars_data['car_company'].head()"
   ]
  },
  {
   "cell_type": "code",
   "execution_count": 22,
   "metadata": {
    "execution": {
     "iopub.execute_input": "2022-03-16T20:01:39.617567Z",
     "iopub.status.busy": "2022-03-16T20:01:39.616591Z",
     "iopub.status.idle": "2022-03-16T20:01:39.628487Z",
     "shell.execute_reply": "2022-03-16T20:01:39.62776Z",
     "shell.execute_reply.started": "2022-03-16T20:01:39.617523Z"
    }
   },
   "outputs": [],
   "source": [
    "# Deleting the original column :\n",
    "cars_data = cars_data.drop(['CarName'], axis =1)"
   ]
  },
  {
   "cell_type": "code",
   "execution_count": 23,
   "metadata": {
    "execution": {
     "iopub.execute_input": "2022-03-16T20:01:39.629935Z",
     "iopub.status.busy": "2022-03-16T20:01:39.629449Z",
     "iopub.status.idle": "2022-03-16T20:01:39.646511Z",
     "shell.execute_reply": "2022-03-16T20:01:39.645875Z",
     "shell.execute_reply.started": "2022-03-16T20:01:39.629875Z"
    }
   },
   "outputs": [
    {
     "data": {
      "text/plain": [
       "toyota         31\n",
       "nissan         17\n",
       "mazda          15\n",
       "honda          13\n",
       "mitsubishi     13\n",
       "subaru         12\n",
       "peugeot        11\n",
       "volvo          11\n",
       "volkswagen      9\n",
       "dodge           9\n",
       "buick           8\n",
       "bmw             8\n",
       "audi            7\n",
       "plymouth        7\n",
       "saab            6\n",
       "isuzu           4\n",
       "porsche         4\n",
       "alfa-romero     3\n",
       "chevrolet       3\n",
       "jaguar          3\n",
       "vw              2\n",
       "maxda           2\n",
       "renault         2\n",
       "toyouta         1\n",
       "vokswagen       1\n",
       "Nissan          1\n",
       "mercury         1\n",
       "porcshce        1\n",
       "Name: car_company, dtype: int64"
      ]
     },
     "execution_count": 23,
     "metadata": {},
     "output_type": "execute_result"
    }
   ],
   "source": [
    "# Exploring \"car_company\" column :\n",
    "cars_data['car_company'].value_counts()"
   ]
  },
  {
   "cell_type": "markdown",
   "metadata": {},
   "source": [
    "> We can see some **spelling mistakes** in the data."
   ]
  },
  {
   "cell_type": "code",
   "execution_count": 24,
   "metadata": {
    "execution": {
     "iopub.execute_input": "2022-03-16T20:01:39.648464Z",
     "iopub.status.busy": "2022-03-16T20:01:39.647435Z",
     "iopub.status.idle": "2022-03-16T20:01:39.659772Z",
     "shell.execute_reply": "2022-03-16T20:01:39.658675Z",
     "shell.execute_reply.started": "2022-03-16T20:01:39.648418Z"
    }
   },
   "outputs": [],
   "source": [
    "cars_data['car_company'].replace('toyouta', 'toyota',inplace=True)\n",
    "cars_data['car_company'].replace('Nissan', 'nissan',inplace=True)\n",
    "cars_data['car_company'].replace('maxda', 'mazda',inplace=True)\n",
    "cars_data['car_company'].replace('vokswagen', 'volkswagen',inplace=True)\n",
    "cars_data['car_company'].replace('vw', 'volkswagen',inplace=True)\n",
    "cars_data['car_company'].replace('porcshce', 'porsche',inplace=True)"
   ]
  },
  {
   "cell_type": "code",
   "execution_count": 25,
   "metadata": {
    "execution": {
     "iopub.execute_input": "2022-03-16T20:01:39.661701Z",
     "iopub.status.busy": "2022-03-16T20:01:39.661129Z",
     "iopub.status.idle": "2022-03-16T20:01:39.693606Z",
     "shell.execute_reply": "2022-03-16T20:01:39.69302Z",
     "shell.execute_reply.started": "2022-03-16T20:01:39.661656Z"
    }
   },
   "outputs": [
    {
     "data": {
      "text/plain": [
       "toyota         32\n",
       "nissan         18\n",
       "mazda          17\n",
       "mitsubishi     13\n",
       "honda          13\n",
       "volkswagen     12\n",
       "subaru         12\n",
       "peugeot        11\n",
       "volvo          11\n",
       "dodge           9\n",
       "buick           8\n",
       "bmw             8\n",
       "audi            7\n",
       "plymouth        7\n",
       "saab            6\n",
       "porsche         5\n",
       "isuzu           4\n",
       "jaguar          3\n",
       "chevrolet       3\n",
       "alfa-romero     3\n",
       "renault         2\n",
       "mercury         1\n",
       "Name: car_company, dtype: int64"
      ]
     },
     "execution_count": 25,
     "metadata": {},
     "output_type": "execute_result"
    }
   ],
   "source": [
    "# Rechecking the data:\n",
    "cars_data['car_company'].value_counts()"
   ]
  },
  {
   "cell_type": "markdown",
   "metadata": {},
   "source": [
    "> - **`fueltype`** : Car fuel type i.e gas or diesel"
   ]
  },
  {
   "cell_type": "code",
   "execution_count": 26,
   "metadata": {
    "execution": {
     "iopub.execute_input": "2022-03-16T20:01:39.695225Z",
     "iopub.status.busy": "2022-03-16T20:01:39.694581Z",
     "iopub.status.idle": "2022-03-16T20:01:39.702811Z",
     "shell.execute_reply": "2022-03-16T20:01:39.701965Z",
     "shell.execute_reply.started": "2022-03-16T20:01:39.695169Z"
    }
   },
   "outputs": [
    {
     "data": {
      "text/plain": [
       "gas       185\n",
       "diesel     20\n",
       "Name: fueltype, dtype: int64"
      ]
     },
     "execution_count": 26,
     "metadata": {},
     "output_type": "execute_result"
    }
   ],
   "source": [
    "cars_data['fueltype'].value_counts()"
   ]
  },
  {
   "cell_type": "markdown",
   "metadata": {},
   "source": [
    "> - **`aspiration`** : Aspiration used in a car"
   ]
  },
  {
   "cell_type": "code",
   "execution_count": 27,
   "metadata": {
    "execution": {
     "iopub.execute_input": "2022-03-16T20:01:39.70495Z",
     "iopub.status.busy": "2022-03-16T20:01:39.7046Z",
     "iopub.status.idle": "2022-03-16T20:01:39.719875Z",
     "shell.execute_reply": "2022-03-16T20:01:39.719265Z",
     "shell.execute_reply.started": "2022-03-16T20:01:39.704887Z"
    }
   },
   "outputs": [
    {
     "data": {
      "text/plain": [
       "std      168\n",
       "turbo     37\n",
       "Name: aspiration, dtype: int64"
      ]
     },
     "execution_count": 27,
     "metadata": {},
     "output_type": "execute_result"
    }
   ],
   "source": [
    "cars_data['aspiration'].value_counts()"
   ]
  },
  {
   "cell_type": "markdown",
   "metadata": {},
   "source": [
    "#### ❓ `Some explanations` :\n",
    "> - **`What is aspiration std?`** : A naturally aspirated engine, also known as a normally aspirated engine or NA, is an internal combustion engine in which air intake depends solely on atmospheric pressure and does not have forced induction through a turbocharger or a supercharger.\n",
    "\n",
    "> - **`What is aspiration turbo?`** : A naturally aspirated engine is an internal combustion engine in which the air intake relies solely on atmospheric pressure, which is the exact opposite of the force induction turbocharged engines use."
   ]
  },
  {
   "cell_type": "markdown",
   "metadata": {},
   "source": [
    "> - **`doornumber`** : Number of doors in a car"
   ]
  },
  {
   "cell_type": "code",
   "execution_count": 28,
   "metadata": {
    "execution": {
     "iopub.execute_input": "2022-03-16T20:01:39.721571Z",
     "iopub.status.busy": "2022-03-16T20:01:39.72123Z",
     "iopub.status.idle": "2022-03-16T20:01:39.733961Z",
     "shell.execute_reply": "2022-03-16T20:01:39.733252Z",
     "shell.execute_reply.started": "2022-03-16T20:01:39.72154Z"
    }
   },
   "outputs": [
    {
     "data": {
      "text/plain": [
       "four    115\n",
       "two      90\n",
       "Name: doornumber, dtype: int64"
      ]
     },
     "execution_count": 28,
     "metadata": {},
     "output_type": "execute_result"
    }
   ],
   "source": [
    "cars_data['doornumber'].value_counts()"
   ]
  },
  {
   "cell_type": "markdown",
   "metadata": {},
   "source": [
    "> As there are **numbers**, let us **convert** these numbers into **numeric form** :"
   ]
  },
  {
   "cell_type": "code",
   "execution_count": 29,
   "metadata": {},
   "outputs": [
    {
     "data": {
      "text/html": [
       "<div>\n",
       "<style scoped>\n",
       "    .dataframe tbody tr th:only-of-type {\n",
       "        vertical-align: middle;\n",
       "    }\n",
       "\n",
       "    .dataframe tbody tr th {\n",
       "        vertical-align: top;\n",
       "    }\n",
       "\n",
       "    .dataframe thead th {\n",
       "        text-align: right;\n",
       "    }\n",
       "</style>\n",
       "<table border=\"1\" class=\"dataframe\">\n",
       "  <thead>\n",
       "    <tr style=\"text-align: right;\">\n",
       "      <th></th>\n",
       "      <th>doornumber</th>\n",
       "    </tr>\n",
       "  </thead>\n",
       "  <tbody>\n",
       "    <tr>\n",
       "      <th>0</th>\n",
       "      <td>two</td>\n",
       "    </tr>\n",
       "    <tr>\n",
       "      <th>1</th>\n",
       "      <td>two</td>\n",
       "    </tr>\n",
       "    <tr>\n",
       "      <th>2</th>\n",
       "      <td>two</td>\n",
       "    </tr>\n",
       "    <tr>\n",
       "      <th>3</th>\n",
       "      <td>four</td>\n",
       "    </tr>\n",
       "    <tr>\n",
       "      <th>4</th>\n",
       "      <td>four</td>\n",
       "    </tr>\n",
       "  </tbody>\n",
       "</table>\n",
       "</div>"
      ],
      "text/plain": [
       "  doornumber\n",
       "0        two\n",
       "1        two\n",
       "2        two\n",
       "3       four\n",
       "4       four"
      ]
     },
     "execution_count": 29,
     "metadata": {},
     "output_type": "execute_result"
    }
   ],
   "source": [
    "cars_data[['doornumber']].head()"
   ]
  },
  {
   "cell_type": "code",
   "execution_count": 30,
   "metadata": {
    "execution": {
     "iopub.execute_input": "2022-03-16T20:01:39.73545Z",
     "iopub.status.busy": "2022-03-16T20:01:39.735129Z",
     "iopub.status.idle": "2022-03-16T20:01:39.754271Z",
     "shell.execute_reply": "2022-03-16T20:01:39.753566Z",
     "shell.execute_reply.started": "2022-03-16T20:01:39.735419Z"
    }
   },
   "outputs": [
    {
     "data": {
      "text/html": [
       "<div>\n",
       "<style scoped>\n",
       "    .dataframe tbody tr th:only-of-type {\n",
       "        vertical-align: middle;\n",
       "    }\n",
       "\n",
       "    .dataframe tbody tr th {\n",
       "        vertical-align: top;\n",
       "    }\n",
       "\n",
       "    .dataframe thead th {\n",
       "        text-align: right;\n",
       "    }\n",
       "</style>\n",
       "<table border=\"1\" class=\"dataframe\">\n",
       "  <thead>\n",
       "    <tr style=\"text-align: right;\">\n",
       "      <th></th>\n",
       "      <th>doornumber</th>\n",
       "    </tr>\n",
       "  </thead>\n",
       "  <tbody>\n",
       "    <tr>\n",
       "      <th>0</th>\n",
       "      <td>2</td>\n",
       "    </tr>\n",
       "    <tr>\n",
       "      <th>1</th>\n",
       "      <td>2</td>\n",
       "    </tr>\n",
       "    <tr>\n",
       "      <th>2</th>\n",
       "      <td>2</td>\n",
       "    </tr>\n",
       "    <tr>\n",
       "      <th>3</th>\n",
       "      <td>4</td>\n",
       "    </tr>\n",
       "    <tr>\n",
       "      <th>4</th>\n",
       "      <td>4</td>\n",
       "    </tr>\n",
       "  </tbody>\n",
       "</table>\n",
       "</div>"
      ],
      "text/plain": [
       "   doornumber\n",
       "0           2\n",
       "1           2\n",
       "2           2\n",
       "3           4\n",
       "4           4"
      ]
     },
     "execution_count": 30,
     "metadata": {},
     "output_type": "execute_result"
    }
   ],
   "source": [
    "def number_(x):\n",
    "    return x.map({'four':4, 'two': 2})\n",
    "    \n",
    "cars_data['doornumber'] = cars_data[['doornumber']].apply(number_)\n",
    "cars_data[['doornumber']].head()"
   ]
  },
  {
   "cell_type": "code",
   "execution_count": 31,
   "metadata": {
    "execution": {
     "iopub.execute_input": "2022-03-16T20:01:39.755744Z",
     "iopub.status.busy": "2022-03-16T20:01:39.755406Z",
     "iopub.status.idle": "2022-03-16T20:01:39.772253Z",
     "shell.execute_reply": "2022-03-16T20:01:39.771553Z",
     "shell.execute_reply.started": "2022-03-16T20:01:39.755716Z"
    }
   },
   "outputs": [
    {
     "data": {
      "text/plain": [
       "4    115\n",
       "2     90\n",
       "Name: doornumber, dtype: int64"
      ]
     },
     "execution_count": 31,
     "metadata": {},
     "output_type": "execute_result"
    }
   ],
   "source": [
    "# Rechecking :\n",
    "cars_data['doornumber'].value_counts()"
   ]
  },
  {
   "cell_type": "markdown",
   "metadata": {},
   "source": [
    "> - **`carbody`** : body of car"
   ]
  },
  {
   "cell_type": "code",
   "execution_count": 32,
   "metadata": {
    "execution": {
     "iopub.execute_input": "2022-03-16T20:01:39.775469Z",
     "iopub.status.busy": "2022-03-16T20:01:39.774704Z",
     "iopub.status.idle": "2022-03-16T20:01:39.789603Z",
     "shell.execute_reply": "2022-03-16T20:01:39.788662Z",
     "shell.execute_reply.started": "2022-03-16T20:01:39.775432Z"
    }
   },
   "outputs": [
    {
     "data": {
      "text/plain": [
       "sedan          96\n",
       "hatchback      70\n",
       "wagon          25\n",
       "hardtop         8\n",
       "convertible     6\n",
       "Name: carbody, dtype: int64"
      ]
     },
     "execution_count": 32,
     "metadata": {},
     "output_type": "execute_result"
    }
   ],
   "source": [
    "cars_data['carbody'].value_counts()"
   ]
  },
  {
   "cell_type": "markdown",
   "metadata": {},
   "source": [
    "> - **`drivewheel`** : type of drive wheel "
   ]
  },
  {
   "cell_type": "code",
   "execution_count": 33,
   "metadata": {
    "execution": {
     "iopub.execute_input": "2022-03-16T20:01:39.791217Z",
     "iopub.status.busy": "2022-03-16T20:01:39.790828Z",
     "iopub.status.idle": "2022-03-16T20:01:39.806091Z",
     "shell.execute_reply": "2022-03-16T20:01:39.804817Z",
     "shell.execute_reply.started": "2022-03-16T20:01:39.791176Z"
    }
   },
   "outputs": [
    {
     "data": {
      "text/plain": [
       "fwd    120\n",
       "rwd     76\n",
       "4wd      9\n",
       "Name: drivewheel, dtype: int64"
      ]
     },
     "execution_count": 33,
     "metadata": {},
     "output_type": "execute_result"
    }
   ],
   "source": [
    "cars_data['drivewheel'].value_counts()"
   ]
  },
  {
   "cell_type": "markdown",
   "metadata": {},
   "source": [
    "> - **`enginelocation`** : Location of car engine"
   ]
  },
  {
   "cell_type": "code",
   "execution_count": 34,
   "metadata": {
    "execution": {
     "iopub.execute_input": "2022-03-16T20:01:39.810363Z",
     "iopub.status.busy": "2022-03-16T20:01:39.809946Z",
     "iopub.status.idle": "2022-03-16T20:01:39.818854Z",
     "shell.execute_reply": "2022-03-16T20:01:39.81798Z",
     "shell.execute_reply.started": "2022-03-16T20:01:39.810314Z"
    }
   },
   "outputs": [
    {
     "data": {
      "text/plain": [
       "front    202\n",
       "rear       3\n",
       "Name: enginelocation, dtype: int64"
      ]
     },
     "execution_count": 34,
     "metadata": {},
     "output_type": "execute_result"
    }
   ],
   "source": [
    "cars_data['enginelocation'].value_counts()"
   ]
  },
  {
   "cell_type": "markdown",
   "metadata": {},
   "source": [
    "only 3 cars with rear engines. we can drop this feature."
   ]
  },
  {
   "cell_type": "markdown",
   "metadata": {},
   "source": [
    "> - **`wheelbase`** : Weelbase of car"
   ]
  },
  {
   "cell_type": "code",
   "execution_count": 35,
   "metadata": {
    "execution": {
     "iopub.execute_input": "2022-03-16T20:01:39.821089Z",
     "iopub.status.busy": "2022-03-16T20:01:39.820426Z",
     "iopub.status.idle": "2022-03-16T20:01:39.835857Z",
     "shell.execute_reply": "2022-03-16T20:01:39.835111Z",
     "shell.execute_reply.started": "2022-03-16T20:01:39.821044Z"
    }
   },
   "outputs": [
    {
     "data": {
      "text/plain": [
       "94.5    21\n",
       "93.7    20\n",
       "95.7    13\n",
       "96.5     8\n",
       "97.3     7\n",
       "Name: wheelbase, dtype: int64"
      ]
     },
     "execution_count": 35,
     "metadata": {},
     "output_type": "execute_result"
    }
   ],
   "source": [
    "cars_data['wheelbase'].value_counts().head()"
   ]
  },
  {
   "cell_type": "code",
   "execution_count": 36,
   "metadata": {
    "execution": {
     "iopub.execute_input": "2022-03-16T20:01:39.837505Z",
     "iopub.status.busy": "2022-03-16T20:01:39.836959Z",
     "iopub.status.idle": "2022-03-16T20:01:40.100024Z",
     "shell.execute_reply": "2022-03-16T20:01:40.098749Z",
     "shell.execute_reply.started": "2022-03-16T20:01:39.837473Z"
    }
   },
   "outputs": [
    {
     "data": {
      "image/png": "[encoded data removed]",
      "text/plain": [
       "<Figure size 432x288 with 1 Axes>"
      ]
     },
     "metadata": {
      "needs_background": "light"
     },
     "output_type": "display_data"
    }
   ],
   "source": [
    "sns.distplot(cars_data['wheelbase'])\n",
    "plt.show()"
   ]
  },
  {
   "cell_type": "code",
   "execution_count": 37,
   "metadata": {},
   "outputs": [
    {
     "data": {
      "image/png": "[encoded data removed]",
      "text/plain": [
       "<Figure size 432x288 with 1 Axes>"
      ]
     },
     "metadata": {
      "needs_background": "light"
     },
     "output_type": "display_data"
    }
   ],
   "source": [
    "plt.hist(cars_data[\"wheelbase\"], bins=25, rwidth=0.8)\n",
    "plt.show()"
   ]
  },
  {
   "cell_type": "markdown",
   "metadata": {},
   "source": [
    "> - **`carlength`** : Length of car"
   ]
  },
  {
   "cell_type": "code",
   "execution_count": 38,
   "metadata": {
    "execution": {
     "iopub.execute_input": "2022-03-16T20:01:40.10208Z",
     "iopub.status.busy": "2022-03-16T20:01:40.101188Z",
     "iopub.status.idle": "2022-03-16T20:01:40.112038Z",
     "shell.execute_reply": "2022-03-16T20:01:40.110696Z",
     "shell.execute_reply.started": "2022-03-16T20:01:40.102047Z"
    }
   },
   "outputs": [
    {
     "data": {
      "text/plain": [
       "157.3    15\n",
       "188.8    11\n",
       "171.7     7\n",
       "186.7     7\n",
       "166.3     7\n",
       "Name: carlength, dtype: int64"
      ]
     },
     "execution_count": 38,
     "metadata": {},
     "output_type": "execute_result"
    }
   ],
   "source": [
    "cars_data['carlength'].value_counts().head()"
   ]
  },
  {
   "cell_type": "code",
   "execution_count": 39,
   "metadata": {
    "execution": {
     "iopub.execute_input": "2022-03-16T20:01:40.114663Z",
     "iopub.status.busy": "2022-03-16T20:01:40.114347Z",
     "iopub.status.idle": "2022-03-16T20:01:40.356548Z",
     "shell.execute_reply": "2022-03-16T20:01:40.355918Z",
     "shell.execute_reply.started": "2022-03-16T20:01:40.114621Z"
    }
   },
   "outputs": [
    {
     "data": {
      "image/png": "[encoded data removed]",
      "text/plain": [
       "<Figure size 432x288 with 1 Axes>"
      ]
     },
     "metadata": {
      "needs_background": "light"
     },
     "output_type": "display_data"
    }
   ],
   "source": [
    "sns.distplot(cars_data['carlength'])\n",
    "plt.show()"
   ]
  },
  {
   "cell_type": "code",
   "execution_count": 40,
   "metadata": {},
   "outputs": [
    {
     "data": {
      "image/png": "[encoded data removed]",
      "text/plain": [
       "<Figure size 432x288 with 1 Axes>"
      ]
     },
     "metadata": {
      "needs_background": "light"
     },
     "output_type": "display_data"
    }
   ],
   "source": [
    "plt.hist(cars_data[\"carlength\"], bins=10, rwidth=0.8)\n",
    "plt.show()"
   ]
  },
  {
   "cell_type": "markdown",
   "metadata": {},
   "source": [
    "> - **`enginetype`** : Type of engine."
   ]
  },
  {
   "cell_type": "code",
   "execution_count": 41,
   "metadata": {
    "execution": {
     "iopub.execute_input": "2022-03-16T20:01:40.358273Z",
     "iopub.status.busy": "2022-03-16T20:01:40.357685Z",
     "iopub.status.idle": "2022-03-16T20:01:40.370601Z",
     "shell.execute_reply": "2022-03-16T20:01:40.3694Z",
     "shell.execute_reply.started": "2022-03-16T20:01:40.358199Z"
    }
   },
   "outputs": [
    {
     "data": {
      "text/plain": [
       "ohc      148\n",
       "ohcf      15\n",
       "ohcv      13\n",
       "dohc      12\n",
       "l         12\n",
       "rotor      4\n",
       "dohcv      1\n",
       "Name: enginetype, dtype: int64"
      ]
     },
     "execution_count": 41,
     "metadata": {},
     "output_type": "execute_result"
    }
   ],
   "source": [
    "cars_data['enginetype'].value_counts()"
   ]
  },
  {
   "cell_type": "markdown",
   "metadata": {},
   "source": [
    "> - **`cylindernumber`** : cylinder placed in the car"
   ]
  },
  {
   "cell_type": "code",
   "execution_count": 42,
   "metadata": {
    "execution": {
     "iopub.execute_input": "2022-03-16T20:01:40.372731Z",
     "iopub.status.busy": "2022-03-16T20:01:40.372383Z",
     "iopub.status.idle": "2022-03-16T20:01:40.384576Z",
     "shell.execute_reply": "2022-03-16T20:01:40.383781Z",
     "shell.execute_reply.started": "2022-03-16T20:01:40.372686Z"
    }
   },
   "outputs": [
    {
     "data": {
      "text/plain": [
       "four      159\n",
       "six        24\n",
       "five       11\n",
       "eight       5\n",
       "two         4\n",
       "three       1\n",
       "twelve      1\n",
       "Name: cylindernumber, dtype: int64"
      ]
     },
     "execution_count": 42,
     "metadata": {},
     "output_type": "execute_result"
    }
   ],
   "source": [
    "cars_data['cylindernumber'].value_counts()"
   ]
  },
  {
   "cell_type": "markdown",
   "metadata": {},
   "source": [
    "> ☝️ As there are **numbers**, let us **convert** these numbers into **numeric form** :"
   ]
  },
  {
   "cell_type": "code",
   "execution_count": 43,
   "metadata": {},
   "outputs": [
    {
     "data": {
      "text/plain": [
       "0    four\n",
       "1    four\n",
       "2     six\n",
       "3    four\n",
       "4    five\n",
       "Name: cylindernumber, dtype: object"
      ]
     },
     "execution_count": 43,
     "metadata": {},
     "output_type": "execute_result"
    }
   ],
   "source": [
    "cars_data['cylindernumber'].head()"
   ]
  },
  {
   "cell_type": "code",
   "execution_count": 44,
   "metadata": {
    "execution": {
     "iopub.execute_input": "2022-03-16T20:01:57.061687Z",
     "iopub.status.busy": "2022-03-16T20:01:57.061047Z",
     "iopub.status.idle": "2022-03-16T20:01:57.06993Z",
     "shell.execute_reply": "2022-03-16T20:01:57.068951Z",
     "shell.execute_reply.started": "2022-03-16T20:01:57.061636Z"
    }
   },
   "outputs": [
    {
     "data": {
      "text/plain": [
       "0    4\n",
       "1    4\n",
       "2    6\n",
       "3    4\n",
       "4    5\n",
       "Name: cylindernumber, dtype: int64"
      ]
     },
     "execution_count": 44,
     "metadata": {},
     "output_type": "execute_result"
    }
   ],
   "source": [
    "def convert_number(x):\n",
    "    return x.map({'four': 4,\n",
    "                  'six': 6,\n",
    "                  'five': 5,\n",
    "                  'eight': 8,\n",
    "                  'two': 2,\n",
    "                  'three': 3,\n",
    "                  'twelve': 12}\n",
    "                 )\n",
    "\n",
    "cars_data['cylindernumber'] = cars_data[['cylindernumber']].apply(convert_number)\n",
    "cars_data['cylindernumber'].head()"
   ]
  },
  {
   "cell_type": "code",
   "execution_count": 45,
   "metadata": {
    "execution": {
     "iopub.execute_input": "2022-03-16T20:02:00.51949Z",
     "iopub.status.busy": "2022-03-16T20:02:00.519134Z",
     "iopub.status.idle": "2022-03-16T20:02:00.52759Z",
     "shell.execute_reply": "2022-03-16T20:02:00.526985Z",
     "shell.execute_reply.started": "2022-03-16T20:02:00.519449Z"
    }
   },
   "outputs": [
    {
     "data": {
      "text/plain": [
       "4     159\n",
       "6      24\n",
       "5      11\n",
       "8       5\n",
       "2       4\n",
       "3       1\n",
       "12      1\n",
       "Name: cylindernumber, dtype: int64"
      ]
     },
     "execution_count": 45,
     "metadata": {},
     "output_type": "execute_result"
    }
   ],
   "source": [
    "# Re-checking :\n",
    "cars_data['cylindernumber'].value_counts()"
   ]
  },
  {
   "cell_type": "markdown",
   "metadata": {},
   "source": [
    "> - **`fuelsystem`** : Fuel system of car "
   ]
  },
  {
   "cell_type": "code",
   "execution_count": 46,
   "metadata": {
    "execution": {
     "iopub.execute_input": "2022-03-16T20:02:07.12915Z",
     "iopub.status.busy": "2022-03-16T20:02:07.128758Z",
     "iopub.status.idle": "2022-03-16T20:02:07.138153Z",
     "shell.execute_reply": "2022-03-16T20:02:07.137395Z",
     "shell.execute_reply.started": "2022-03-16T20:02:07.129113Z"
    }
   },
   "outputs": [
    {
     "data": {
      "text/plain": [
       "mpfi    94\n",
       "2bbl    66\n",
       "idi     20\n",
       "1bbl    11\n",
       "spdi     9\n",
       "4bbl     3\n",
       "mfi      1\n",
       "spfi     1\n",
       "Name: fuelsystem, dtype: int64"
      ]
     },
     "execution_count": 46,
     "metadata": {},
     "output_type": "execute_result"
    }
   ],
   "source": [
    "cars_data['fuelsystem'].value_counts()"
   ]
  },
  {
   "cell_type": "markdown",
   "metadata": {},
   "source": [
    "> 😊 Now, we have almost looked into most of the column individually. Now let us explore data visulaization to look for any patterns. "
   ]
  },
  {
   "cell_type": "markdown",
   "metadata": {},
   "source": [
    "### 📈 `Data Visulaization` :"
   ]
  },
  {
   "cell_type": "code",
   "execution_count": 47,
   "metadata": {
    "execution": {
     "iopub.execute_input": "2022-03-16T20:02:26.406113Z",
     "iopub.status.busy": "2022-03-16T20:02:26.405637Z",
     "iopub.status.idle": "2022-03-16T20:02:26.430365Z",
     "shell.execute_reply": "2022-03-16T20:02:26.429342Z",
     "shell.execute_reply.started": "2022-03-16T20:02:26.406081Z"
    }
   },
   "outputs": [
    {
     "data": {
      "text/html": [
       "<div>\n",
       "<style scoped>\n",
       "    .dataframe tbody tr th:only-of-type {\n",
       "        vertical-align: middle;\n",
       "    }\n",
       "\n",
       "    .dataframe tbody tr th {\n",
       "        vertical-align: top;\n",
       "    }\n",
       "\n",
       "    .dataframe thead th {\n",
       "        text-align: right;\n",
       "    }\n",
       "</style>\n",
       "<table border=\"1\" class=\"dataframe\">\n",
       "  <thead>\n",
       "    <tr style=\"text-align: right;\">\n",
       "      <th></th>\n",
       "      <th>symboling</th>\n",
       "      <th>doornumber</th>\n",
       "      <th>wheelbase</th>\n",
       "      <th>carlength</th>\n",
       "      <th>carwidth</th>\n",
       "      <th>carheight</th>\n",
       "      <th>curbweight</th>\n",
       "      <th>cylindernumber</th>\n",
       "      <th>enginesize</th>\n",
       "      <th>boreratio</th>\n",
       "      <th>stroke</th>\n",
       "      <th>compressionratio</th>\n",
       "      <th>horsepower</th>\n",
       "      <th>peakrpm</th>\n",
       "      <th>citympg</th>\n",
       "      <th>highwaympg</th>\n",
       "      <th>price</th>\n",
       "    </tr>\n",
       "  </thead>\n",
       "  <tbody>\n",
       "    <tr>\n",
       "      <th>0</th>\n",
       "      <td>3</td>\n",
       "      <td>2</td>\n",
       "      <td>88.6</td>\n",
       "      <td>168.8</td>\n",
       "      <td>64.1</td>\n",
       "      <td>48.8</td>\n",
       "      <td>2548</td>\n",
       "      <td>4</td>\n",
       "      <td>130</td>\n",
       "      <td>3.47</td>\n",
       "      <td>2.68</td>\n",
       "      <td>9.0</td>\n",
       "      <td>111</td>\n",
       "      <td>5000</td>\n",
       "      <td>21</td>\n",
       "      <td>27</td>\n",
       "      <td>13495.0</td>\n",
       "    </tr>\n",
       "    <tr>\n",
       "      <th>1</th>\n",
       "      <td>3</td>\n",
       "      <td>2</td>\n",
       "      <td>88.6</td>\n",
       "      <td>168.8</td>\n",
       "      <td>64.1</td>\n",
       "      <td>48.8</td>\n",
       "      <td>2548</td>\n",
       "      <td>4</td>\n",
       "      <td>130</td>\n",
       "      <td>3.47</td>\n",
       "      <td>2.68</td>\n",
       "      <td>9.0</td>\n",
       "      <td>111</td>\n",
       "      <td>5000</td>\n",
       "      <td>21</td>\n",
       "      <td>27</td>\n",
       "      <td>16500.0</td>\n",
       "    </tr>\n",
       "    <tr>\n",
       "      <th>2</th>\n",
       "      <td>1</td>\n",
       "      <td>2</td>\n",
       "      <td>94.5</td>\n",
       "      <td>171.2</td>\n",
       "      <td>65.5</td>\n",
       "      <td>52.4</td>\n",
       "      <td>2823</td>\n",
       "      <td>6</td>\n",
       "      <td>152</td>\n",
       "      <td>2.68</td>\n",
       "      <td>3.47</td>\n",
       "      <td>9.0</td>\n",
       "      <td>154</td>\n",
       "      <td>5000</td>\n",
       "      <td>19</td>\n",
       "      <td>26</td>\n",
       "      <td>16500.0</td>\n",
       "    </tr>\n",
       "    <tr>\n",
       "      <th>3</th>\n",
       "      <td>2</td>\n",
       "      <td>4</td>\n",
       "      <td>99.8</td>\n",
       "      <td>176.6</td>\n",
       "      <td>66.2</td>\n",
       "      <td>54.3</td>\n",
       "      <td>2337</td>\n",
       "      <td>4</td>\n",
       "      <td>109</td>\n",
       "      <td>3.19</td>\n",
       "      <td>3.40</td>\n",
       "      <td>10.0</td>\n",
       "      <td>102</td>\n",
       "      <td>5500</td>\n",
       "      <td>24</td>\n",
       "      <td>30</td>\n",
       "      <td>13950.0</td>\n",
       "    </tr>\n",
       "    <tr>\n",
       "      <th>4</th>\n",
       "      <td>2</td>\n",
       "      <td>4</td>\n",
       "      <td>99.4</td>\n",
       "      <td>176.6</td>\n",
       "      <td>66.4</td>\n",
       "      <td>54.3</td>\n",
       "      <td>2824</td>\n",
       "      <td>5</td>\n",
       "      <td>136</td>\n",
       "      <td>3.19</td>\n",
       "      <td>3.40</td>\n",
       "      <td>8.0</td>\n",
       "      <td>115</td>\n",
       "      <td>5500</td>\n",
       "      <td>18</td>\n",
       "      <td>22</td>\n",
       "      <td>17450.0</td>\n",
       "    </tr>\n",
       "  </tbody>\n",
       "</table>\n",
       "</div>"
      ],
      "text/plain": [
       "   symboling  doornumber  wheelbase  carlength  carwidth  carheight  \\\n",
       "0          3           2       88.6      168.8      64.1       48.8   \n",
       "1          3           2       88.6      168.8      64.1       48.8   \n",
       "2          1           2       94.5      171.2      65.5       52.4   \n",
       "3          2           4       99.8      176.6      66.2       54.3   \n",
       "4          2           4       99.4      176.6      66.4       54.3   \n",
       "\n",
       "   curbweight  cylindernumber  enginesize  boreratio  stroke  \\\n",
       "0        2548               4         130       3.47    2.68   \n",
       "1        2548               4         130       3.47    2.68   \n",
       "2        2823               6         152       2.68    3.47   \n",
       "3        2337               4         109       3.19    3.40   \n",
       "4        2824               5         136       3.19    3.40   \n",
       "\n",
       "   compressionratio  horsepower  peakrpm  citympg  highwaympg    price  \n",
       "0               9.0         111     5000       21          27  13495.0  \n",
       "1               9.0         111     5000       21          27  16500.0  \n",
       "2               9.0         154     5000       19          26  16500.0  \n",
       "3              10.0         102     5500       24          30  13950.0  \n",
       "4               8.0         115     5500       18          22  17450.0  "
      ]
     },
     "execution_count": 47,
     "metadata": {},
     "output_type": "execute_result"
    }
   ],
   "source": [
    "cars_numeric = cars_data.select_dtypes(include =['int64','float64'])\n",
    "cars_numeric.head()"
   ]
  },
  {
   "cell_type": "markdown",
   "metadata": {},
   "source": [
    "> ❓ **`Pairplot`** is used to understand the best set of features to explain a **relationship between two variables** or to form the most separated clusters. It also helps to form some simple classification models by drawing some simple lines or make linear separation in our data-set."
   ]
  },
  {
   "cell_type": "code",
   "execution_count": 3,
   "metadata": {
    "execution": {
     "iopub.execute_input": "2022-03-16T20:02:39.459548Z",
     "iopub.status.busy": "2022-03-16T20:02:39.459227Z",
     "iopub.status.idle": "2022-03-16T20:03:51.416089Z",
     "shell.execute_reply": "2022-03-16T20:03:51.412432Z",
     "shell.execute_reply.started": "2022-03-16T20:02:39.459516Z"
    }
   },
   "outputs": [
    {
     "ename": "NameError",
     "evalue": "name 'cars_numeric' is not defined",
     "output_type": "error",
     "traceback": [
      "\u001b[1;31m---------------------------------------------------------------------------\u001b[0m",
      "\u001b[1;31mNameError\u001b[0m                                 Traceback (most recent call last)",
      "Input \u001b[1;32mIn [3]\u001b[0m, in \u001b[0;36m<cell line: 2>\u001b[1;34m()\u001b[0m\n\u001b[0;32m      1\u001b[0m plt\u001b[38;5;241m.\u001b[39mfigure(figsize \u001b[38;5;241m=\u001b[39m (\u001b[38;5;241m30\u001b[39m,\u001b[38;5;241m30\u001b[39m))\n\u001b[1;32m----> 2\u001b[0m sns\u001b[38;5;241m.\u001b[39mpairplot(\u001b[43mcars_numeric\u001b[49m)\n\u001b[0;32m      3\u001b[0m plt\u001b[38;5;241m.\u001b[39mshow()\n",
      "\u001b[1;31mNameError\u001b[0m: name 'cars_numeric' is not defined"
     ]
    },
    {
     "data": {
      "text/plain": [
       "<Figure size 2160x2160 with 0 Axes>"
      ]
     },
     "metadata": {},
     "output_type": "display_data"
    }
   ],
   "source": [
    "plt.figure(figsize = (30,30))\n",
    "sns.pairplot(cars_numeric)\n",
    "plt.show()"
   ]
  },
  {
   "cell_type": "markdown",
   "metadata": {},
   "source": [
    "> 🤔 Since there are a lot of columns, we can't really make out much from the graph above. Let's check the correlation."
   ]
  },
  {
   "cell_type": "markdown",
   "metadata": {},
   "source": [
    "> ❓ **`Correlation matrix`** is a table showing **correlation coefficients between variables**. Each cell in the table shows the correlation between two variables. A correlation matrix is used to summarize data, as an input into a more advanced analysis, and as a diagnostic for advanced analyses.\n",
    "> - The **magnitude of the correlation coefficient** *indicates* the **strength of the association**. For example, a correlation of **`r = 0.9`**  suggests a **`strong`** , positive association between two variables, whereas a correlation of **`r = -0.2`**  suggest a **`weak`** , negative association."
   ]
  },
  {
   "cell_type": "code",
   "execution_count": null,
   "metadata": {
    "execution": {
     "iopub.execute_input": "2022-03-16T20:07:56.607612Z",
     "iopub.status.busy": "2022-03-16T20:07:56.607304Z",
     "iopub.status.idle": "2022-03-16T20:07:59.087505Z",
     "shell.execute_reply": "2022-03-16T20:07:59.086079Z",
     "shell.execute_reply.started": "2022-03-16T20:07:56.607583Z"
    }
   },
   "outputs": [],
   "source": [
    "plt.figure(figsize = (20,20))\n",
    "sns.heatmap(cars_data.corr(), annot = True ,cmap = 'YlGnBu')\n",
    "plt.show()"
   ]
  },
  {
   "cell_type": "markdown",
   "metadata": {},
   "source": [
    "> - **`Price`** is **highly** (positively) **correlated** with **`wheelbase`**, **`carlength`**, **`carwidth`**, **`curbweight`**, **`enginesize`**, **`horsepower`**.\n",
    "\n",
    "> - There are *many* independent *variables* which are highly correlated: **`wheelbase`**, **`carlength`**, **`curbweight`**, **`enginesize`** etc.. all are **positively correlated**.\n",
    "\n",
    "> - 💡 **`Price`** is **negatively correlated** to **`symboling`**, **`citympg`** and **`highwaympg`**. This suggests that cars with **high mileage** may belong to the category of **\"economy cars\"** and are less expensive."
   ]
  },
  {
   "cell_type": "code",
   "execution_count": null,
   "metadata": {
    "execution": {
     "iopub.execute_input": "2022-03-16T20:09:07.145452Z",
     "iopub.status.busy": "2022-03-16T20:09:07.145056Z",
     "iopub.status.idle": "2022-03-16T20:09:07.168519Z",
     "shell.execute_reply": "2022-03-16T20:09:07.167761Z",
     "shell.execute_reply.started": "2022-03-16T20:09:07.145414Z"
    }
   },
   "outputs": [],
   "source": [
    "categorical_cols = cars_data.select_dtypes(include=['object'])\n",
    "categorical_cols.head()"
   ]
  },
  {
   "cell_type": "code",
   "execution_count": null,
   "metadata": {
    "execution": {
     "iopub.execute_input": "2022-03-16T20:09:11.761877Z",
     "iopub.status.busy": "2022-03-16T20:09:11.761383Z",
     "iopub.status.idle": "2022-03-16T20:09:13.191788Z",
     "shell.execute_reply": "2022-03-16T20:09:13.190616Z",
     "shell.execute_reply.started": "2022-03-16T20:09:11.761838Z"
    }
   },
   "outputs": [],
   "source": [
    "plt.figure(figsize=(20, 12))\n",
    "\n",
    "plt.subplot(3, 3, 1) # 3 rows, 3 columns, 1st subplot = left\n",
    "sns.boxplot(x='fueltype', y='price', data=cars_data)\n",
    "\n",
    "plt.subplot(3, 3, 2) # 3 rows, 3 columns, 2nd subplot = middle\n",
    "sns.boxplot(x='aspiration', y='price', data=cars_data)\n",
    "\n",
    "plt.subplot(3, 3, 3) # 3 rows, 3 columns, 3rd subplot = right\n",
    "sns.boxplot(x='carbody', y='price', data=cars_data)\n",
    "\n",
    "plt.subplot(3, 3, 4)\n",
    "sns.boxplot(x='drivewheel', y='price', data=cars_data)\n",
    "\n",
    "plt.subplot(3, 3, 5)\n",
    "sns.boxplot(x='enginelocation', y='price', data=cars_data)\n",
    "\n",
    "plt.subplot(3, 3, 6)\n",
    "sns.boxplot(x='enginetype', y='price', data=cars_data)\n",
    "\n",
    "plt.subplot(3, 3, 7)\n",
    "sns.boxplot(x='fuelsystem', y='price', data=cars_data)"
   ]
  },
  {
   "cell_type": "markdown",
   "metadata": {},
   "source": [
    "> Hey 👋 you can check out the [matplotlib hands-on training notebook](https://github.com/labrijisaad/Data-scientist-tools-Matplotlib) to understand and learn how to create **subplots** with matplotlib."
   ]
  },
  {
   "cell_type": "code",
   "execution_count": null,
   "metadata": {
    "execution": {
     "iopub.execute_input": "2022-03-16T20:09:49.579637Z",
     "iopub.status.busy": "2022-03-16T20:09:49.578672Z",
     "iopub.status.idle": "2022-03-16T20:09:50.215343Z",
     "shell.execute_reply": "2022-03-16T20:09:50.214397Z",
     "shell.execute_reply.started": "2022-03-16T20:09:49.579564Z"
    }
   },
   "outputs": [],
   "source": [
    "plt.figure(figsize=(20, 10))\n",
    "sns.boxplot(x='car_company', y='price', data=cars_data)"
   ]
  },
  {
   "cell_type": "markdown",
   "metadata": {},
   "source": [
    "###  `Some deductions` :\n",
    "> - From the **`price boxplot`** it is clear that The **brands** with the **most expensive vehicles** in the dataset belong to **Bmw**, **Buick**, **Jaguar** and **porsche**.\n",
    "\n",
    "> - Whereas the **lower priced** cars belong to **chevrolet**.\n",
    "\n",
    "> - The **median price** of **gas** vehicles is lower than that of **Diesel** Vehicles.\n",
    "\n",
    "> - **75th percentile** of standard **aspirated** vehicles have a **price lower** than the **median price** of **turbo** aspirated vehicles. \n",
    "\n",
    "> - **two** and **four** Door vehicles are almost **equally priced**. There are however some outliers in the price of two-door vehicles. \n",
    "\n",
    "> - **Hatchback** vehicles have the **lowest median price** of vehicles in the data set whereas **hardtop** vehicles have the **highest** median price.\n",
    "\n",
    "> - Almost all vehicles in the dataset have engines placed in the front of the vehicle. However, the price of vehicles with **rear placed engines** is significantly **higher** than the price of vehicles with **front placed engines**. \n",
    "\n",
    "> The **median cost** of **eight cylinder** vehicles is **higher** than other cylinder categories.\n",
    "\n",
    "> It is clear that vehicles **Multi-port Fuel Injection** fuelsystem have the **highest median price**. There are also some outliers on the **higher price** side having **MPFI systems**.\n",
    "\n",
    "> Vehicles with **OHCV engine** type falls **under higher price range**."
   ]
  },
  {
   "cell_type": "markdown",
   "metadata": {},
   "source": [
    "### 👩‍🍳 `Data Preparation` :"
   ]
  },
  {
   "cell_type": "markdown",
   "metadata": {},
   "source": [
    "> - **`One-hot encoding`** is an important step for preparing our dataset for use in machine learning. **One-hot encoding** `turns your categorical data into a binary vector representation`. Pandas get dummies makes this very easy!                      \n",
    ">     - This means that for each unique value in a column, a new column is created. The values in this column are represented as 1s and 0s, depending on whether the value matches the column header.\n",
    ">     - For example, with the help of the **`get_dummies`** function, we turn this table below :\n",
    ">      <table>\n",
    "    <tbody>\n",
    "        <tr>\n",
    "            <td><b>Gender</b></td>\n",
    "        </tr>\n",
    "        <tr>\n",
    "            <td>Male</td>\n",
    "        </tr>\n",
    "        <tr>\n",
    "            <td>Female</td>\n",
    "        </tr>\n",
    "        <tr>\n",
    "            <td>Male</td>\n",
    "        </tr>\n",
    "        <tr>\n",
    "            <td>Male</td>\n",
    "        </tr>\n",
    "    </tbody>\n",
    "> </table>\n",
    "\n",
    ">    - To this :\n",
    ">      <table>\n",
    "    <tbody>\n",
    "        <tr>\n",
    "            <td><b>Gender</b></td>\n",
    "            <td><b>Male</b></td>\n",
    "            <td><b>Female</b></td>\n",
    "        </tr>\n",
    "        <tr>\n",
    "            <td>Male</td>\n",
    "            <td>1</td>\n",
    "            <td>0</td>\n",
    "        </tr>\n",
    "        <tr>\n",
    "            <td>Female</td>\n",
    "            <td>0</td>\n",
    "            <td>1</td>\n",
    "        </tr>\n",
    "        <tr>\n",
    "            <td>Male</td>\n",
    "            <td>1</td>\n",
    "            <td>0</td>\n",
    "        </tr>\n",
    "        <tr>\n",
    "            <td>Male</td>\n",
    "            <td>1</td>\n",
    "            <td>0</td>\n",
    "        </tr>\n",
    "    </tbody>\n",
    "</table>"
   ]
  },
  {
   "cell_type": "code",
   "execution_count": null,
   "metadata": {
    "execution": {
     "iopub.execute_input": "2022-03-16T20:19:09.605924Z",
     "iopub.status.busy": "2022-03-16T20:19:09.605582Z",
     "iopub.status.idle": "2022-03-16T20:19:09.621054Z",
     "shell.execute_reply": "2022-03-16T20:19:09.620314Z",
     "shell.execute_reply.started": "2022-03-16T20:19:09.605876Z"
    }
   },
   "outputs": [],
   "source": [
    "# Creating dummies for categorical data :\n",
    "cars_dummies = pd.get_dummies(cars_data[categorical_cols.columns])"
   ]
  },
  {
   "cell_type": "code",
   "execution_count": null,
   "metadata": {
    "execution": {
     "iopub.execute_input": "2022-03-16T20:19:13.910156Z",
     "iopub.status.busy": "2022-03-16T20:19:13.909811Z",
     "iopub.status.idle": "2022-03-16T20:19:13.919569Z",
     "shell.execute_reply": "2022-03-16T20:19:13.918377Z",
     "shell.execute_reply.started": "2022-03-16T20:19:13.910126Z"
    }
   },
   "outputs": [],
   "source": [
    "car_df = pd.concat([cars_data, cars_dummies], axis=1)"
   ]
  },
  {
   "cell_type": "code",
   "execution_count": null,
   "metadata": {
    "execution": {
     "iopub.execute_input": "2022-03-16T20:19:16.253632Z",
     "iopub.status.busy": "2022-03-16T20:19:16.252981Z",
     "iopub.status.idle": "2022-03-16T20:19:16.26182Z",
     "shell.execute_reply": "2022-03-16T20:19:16.26087Z",
     "shell.execute_reply.started": "2022-03-16T20:19:16.25359Z"
    }
   },
   "outputs": [],
   "source": [
    "car_df = car_df.drop(['fueltype', 'aspiration', 'carbody', 'drivewheel', 'enginelocation',\n",
    "                      'enginetype', 'fuelsystem', 'car_company'], axis=1)"
   ]
  },
  {
   "cell_type": "code",
   "execution_count": null,
   "metadata": {
    "execution": {
     "iopub.execute_input": "2022-03-16T20:19:19.228504Z",
     "iopub.status.busy": "2022-03-16T20:19:19.227877Z",
     "iopub.status.idle": "2022-03-16T20:19:19.2482Z",
     "shell.execute_reply": "2022-03-16T20:19:19.247102Z",
     "shell.execute_reply.started": "2022-03-16T20:19:19.22847Z"
    }
   },
   "outputs": [],
   "source": [
    "car_df.head()"
   ]
  },
  {
   "cell_type": "markdown",
   "metadata": {},
   "source": [
    "> 1️⃣  **`Spliting the data into test and train`** :"
   ]
  },
  {
   "cell_type": "code",
   "execution_count": null,
   "metadata": {
    "execution": {
     "iopub.execute_input": "2022-03-16T20:19:25.292131Z",
     "iopub.status.busy": "2022-03-16T20:19:25.291794Z",
     "iopub.status.idle": "2022-03-16T20:19:25.330345Z",
     "shell.execute_reply": "2022-03-16T20:19:25.329382Z",
     "shell.execute_reply.started": "2022-03-16T20:19:25.292098Z"
    }
   },
   "outputs": [],
   "source": [
    "car_df=car_df.drop(\"cylindernumber\",axis=1)\n",
    "car_df.fillna(method=\"ffill\")"
   ]
  },
  {
   "cell_type": "code",
   "execution_count": 128,
   "metadata": {
    "execution": {
     "iopub.execute_input": "2022-03-16T20:19:32.724544Z",
     "iopub.status.busy": "2022-03-16T20:19:32.724242Z",
     "iopub.status.idle": "2022-03-16T20:19:32.73252Z",
     "shell.execute_reply": "2022-03-16T20:19:32.731326Z",
     "shell.execute_reply.started": "2022-03-16T20:19:32.724501Z"
    }
   },
   "outputs": [],
   "source": [
    "df_train, df_test = train_test_split(car_df, train_size = 0.7, test_size = 0.3, random_state = 100)"
   ]
  },
  {
   "cell_type": "code",
   "execution_count": 129,
   "metadata": {
    "execution": {
     "iopub.execute_input": "2022-03-16T20:19:36.372098Z",
     "iopub.status.busy": "2022-03-16T20:19:36.371746Z",
     "iopub.status.idle": "2022-03-16T20:19:36.379026Z",
     "shell.execute_reply": "2022-03-16T20:19:36.378098Z",
     "shell.execute_reply.started": "2022-03-16T20:19:36.372061Z"
    }
   },
   "outputs": [
    {
     "data": {
      "text/plain": [
       "(143, 67)"
      ]
     },
     "execution_count": 129,
     "metadata": {},
     "output_type": "execute_result"
    }
   ],
   "source": [
    "df_train.shape"
   ]
  },
  {
   "cell_type": "code",
   "execution_count": 130,
   "metadata": {
    "execution": {
     "iopub.execute_input": "2022-03-16T20:19:38.404554Z",
     "iopub.status.busy": "2022-03-16T20:19:38.404225Z",
     "iopub.status.idle": "2022-03-16T20:19:38.41211Z",
     "shell.execute_reply": "2022-03-16T20:19:38.410939Z",
     "shell.execute_reply.started": "2022-03-16T20:19:38.404517Z"
    }
   },
   "outputs": [
    {
     "data": {
      "text/plain": [
       "(62, 67)"
      ]
     },
     "execution_count": 130,
     "metadata": {},
     "output_type": "execute_result"
    }
   ],
   "source": [
    "df_test.shape"
   ]
  },
  {
   "cell_type": "markdown",
   "metadata": {},
   "source": [
    "> 2️⃣  **`Rescaling the data`** :"
   ]
  },
  {
   "cell_type": "code",
   "execution_count": 131,
   "metadata": {
    "execution": {
     "iopub.execute_input": "2022-03-16T20:19:49.293927Z",
     "iopub.status.busy": "2022-03-16T20:19:49.293483Z",
     "iopub.status.idle": "2022-03-16T20:19:49.299536Z",
     "shell.execute_reply": "2022-03-16T20:19:49.298953Z",
     "shell.execute_reply.started": "2022-03-16T20:19:49.293873Z"
    }
   },
   "outputs": [
    {
     "data": {
      "text/plain": [
       "Index(['symboling', 'doornumber', 'wheelbase', 'carlength', 'carwidth',\n",
       "       'carheight', 'curbweight', 'cylindernumber', 'enginesize', 'boreratio',\n",
       "       'stroke', 'compressionratio', 'horsepower', 'peakrpm', 'citympg',\n",
       "       'highwaympg', 'price'],\n",
       "      dtype='object')"
      ]
     },
     "execution_count": 131,
     "metadata": {},
     "output_type": "execute_result"
    }
   ],
   "source": [
    "cars_numeric.columns"
   ]
  },
  {
   "cell_type": "code",
   "execution_count": 132,
   "metadata": {
    "execution": {
     "iopub.execute_input": "2022-03-16T20:19:53.525994Z",
     "iopub.status.busy": "2022-03-16T20:19:53.525364Z",
     "iopub.status.idle": "2022-03-16T20:19:53.53171Z",
     "shell.execute_reply": "2022-03-16T20:19:53.530829Z",
     "shell.execute_reply.started": "2022-03-16T20:19:53.525942Z"
    }
   },
   "outputs": [],
   "source": [
    "col_list = ['symboling', 'doornumber', 'wheelbase', 'carlength', 'carwidth','carheight', 'curbweight',  'enginesize', 'boreratio',\n",
    "            'stroke', 'compressionratio', 'horsepower', 'peakrpm', 'citympg', 'highwaympg', 'price']"
   ]
  },
  {
   "cell_type": "code",
   "execution_count": 133,
   "metadata": {
    "execution": {
     "iopub.execute_input": "2022-03-16T20:19:59.68738Z",
     "iopub.status.busy": "2022-03-16T20:19:59.68704Z",
     "iopub.status.idle": "2022-03-16T20:19:59.692354Z",
     "shell.execute_reply": "2022-03-16T20:19:59.691152Z",
     "shell.execute_reply.started": "2022-03-16T20:19:59.687343Z"
    }
   },
   "outputs": [],
   "source": [
    "scaler = StandardScaler()"
   ]
  },
  {
   "cell_type": "code",
   "execution_count": 134,
   "metadata": {
    "execution": {
     "iopub.execute_input": "2022-03-16T20:20:08.170942Z",
     "iopub.status.busy": "2022-03-16T20:20:08.170488Z",
     "iopub.status.idle": "2022-03-16T20:20:08.182483Z",
     "shell.execute_reply": "2022-03-16T20:20:08.181791Z",
     "shell.execute_reply.started": "2022-03-16T20:20:08.170885Z"
    }
   },
   "outputs": [],
   "source": [
    "df_train[col_list] = scaler.fit_transform(df_train[col_list])"
   ]
  },
  {
   "cell_type": "code",
   "execution_count": 135,
   "metadata": {
    "execution": {
     "iopub.execute_input": "2022-03-16T20:20:11.39574Z",
     "iopub.status.busy": "2022-03-16T20:20:11.395286Z",
     "iopub.status.idle": "2022-03-16T20:20:11.563852Z",
     "shell.execute_reply": "2022-03-16T20:20:11.563042Z",
     "shell.execute_reply.started": "2022-03-16T20:20:11.395707Z"
    }
   },
   "outputs": [
    {
     "data": {
      "text/html": [
       "<div>\n",
       "<style scoped>\n",
       "    .dataframe tbody tr th:only-of-type {\n",
       "        vertical-align: middle;\n",
       "    }\n",
       "\n",
       "    .dataframe tbody tr th {\n",
       "        vertical-align: top;\n",
       "    }\n",
       "\n",
       "    .dataframe thead th {\n",
       "        text-align: right;\n",
       "    }\n",
       "</style>\n",
       "<table border=\"1\" class=\"dataframe\">\n",
       "  <thead>\n",
       "    <tr style=\"text-align: right;\">\n",
       "      <th></th>\n",
       "      <th>symboling</th>\n",
       "      <th>doornumber</th>\n",
       "      <th>wheelbase</th>\n",
       "      <th>carlength</th>\n",
       "      <th>carwidth</th>\n",
       "      <th>carheight</th>\n",
       "      <th>curbweight</th>\n",
       "      <th>enginesize</th>\n",
       "      <th>boreratio</th>\n",
       "      <th>stroke</th>\n",
       "      <th>...</th>\n",
       "      <th>car_company_nissan</th>\n",
       "      <th>car_company_peugeot</th>\n",
       "      <th>car_company_plymouth</th>\n",
       "      <th>car_company_porsche</th>\n",
       "      <th>car_company_renault</th>\n",
       "      <th>car_company_saab</th>\n",
       "      <th>car_company_subaru</th>\n",
       "      <th>car_company_toyota</th>\n",
       "      <th>car_company_volkswagen</th>\n",
       "      <th>car_company_volvo</th>\n",
       "    </tr>\n",
       "  </thead>\n",
       "  <tbody>\n",
       "    <tr>\n",
       "      <th>count</th>\n",
       "      <td>1.430000e+02</td>\n",
       "      <td>1.430000e+02</td>\n",
       "      <td>1.430000e+02</td>\n",
       "      <td>1.430000e+02</td>\n",
       "      <td>1.430000e+02</td>\n",
       "      <td>1.430000e+02</td>\n",
       "      <td>1.430000e+02</td>\n",
       "      <td>1.430000e+02</td>\n",
       "      <td>1.430000e+02</td>\n",
       "      <td>1.430000e+02</td>\n",
       "      <td>...</td>\n",
       "      <td>143.000000</td>\n",
       "      <td>143.000000</td>\n",
       "      <td>143.000000</td>\n",
       "      <td>143.000000</td>\n",
       "      <td>143.000000</td>\n",
       "      <td>143.000000</td>\n",
       "      <td>143.000000</td>\n",
       "      <td>143.000000</td>\n",
       "      <td>143.000000</td>\n",
       "      <td>143.000000</td>\n",
       "    </tr>\n",
       "    <tr>\n",
       "      <th>mean</th>\n",
       "      <td>5.473477e-17</td>\n",
       "      <td>9.006005e-17</td>\n",
       "      <td>1.538785e-15</td>\n",
       "      <td>2.003060e-16</td>\n",
       "      <td>-4.093074e-15</td>\n",
       "      <td>5.450186e-16</td>\n",
       "      <td>-1.894367e-16</td>\n",
       "      <td>-4.308908e-17</td>\n",
       "      <td>-1.059758e-15</td>\n",
       "      <td>2.155230e-15</td>\n",
       "      <td>...</td>\n",
       "      <td>0.097902</td>\n",
       "      <td>0.055944</td>\n",
       "      <td>0.027972</td>\n",
       "      <td>0.020979</td>\n",
       "      <td>0.013986</td>\n",
       "      <td>0.020979</td>\n",
       "      <td>0.076923</td>\n",
       "      <td>0.139860</td>\n",
       "      <td>0.048951</td>\n",
       "      <td>0.041958</td>\n",
       "    </tr>\n",
       "    <tr>\n",
       "      <th>std</th>\n",
       "      <td>1.003515e+00</td>\n",
       "      <td>1.003515e+00</td>\n",
       "      <td>1.003515e+00</td>\n",
       "      <td>1.003515e+00</td>\n",
       "      <td>1.003515e+00</td>\n",
       "      <td>1.003515e+00</td>\n",
       "      <td>1.003515e+00</td>\n",
       "      <td>1.003515e+00</td>\n",
       "      <td>1.003515e+00</td>\n",
       "      <td>1.003515e+00</td>\n",
       "      <td>...</td>\n",
       "      <td>0.298227</td>\n",
       "      <td>0.230621</td>\n",
       "      <td>0.165472</td>\n",
       "      <td>0.143818</td>\n",
       "      <td>0.117845</td>\n",
       "      <td>0.143818</td>\n",
       "      <td>0.267406</td>\n",
       "      <td>0.348061</td>\n",
       "      <td>0.216524</td>\n",
       "      <td>0.201198</td>\n",
       "    </tr>\n",
       "    <tr>\n",
       "      <th>min</th>\n",
       "      <td>-2.347020e+00</td>\n",
       "      <td>-1.126872e+00</td>\n",
       "      <td>-2.006930e+00</td>\n",
       "      <td>-2.574223e+00</td>\n",
       "      <td>-2.510760e+00</td>\n",
       "      <td>-2.371619e+00</td>\n",
       "      <td>-1.937401e+00</td>\n",
       "      <td>-1.566427e+00</td>\n",
       "      <td>-2.412359e+00</td>\n",
       "      <td>-3.403827e+00</td>\n",
       "      <td>...</td>\n",
       "      <td>0.000000</td>\n",
       "      <td>0.000000</td>\n",
       "      <td>0.000000</td>\n",
       "      <td>0.000000</td>\n",
       "      <td>0.000000</td>\n",
       "      <td>0.000000</td>\n",
       "      <td>0.000000</td>\n",
       "      <td>0.000000</td>\n",
       "      <td>0.000000</td>\n",
       "      <td>0.000000</td>\n",
       "    </tr>\n",
       "    <tr>\n",
       "      <th>25%</th>\n",
       "      <td>-6.689008e-01</td>\n",
       "      <td>-1.126872e+00</td>\n",
       "      <td>-6.771770e-01</td>\n",
       "      <td>-6.186702e-01</td>\n",
       "      <td>-8.565171e-01</td>\n",
       "      <td>-7.222984e-01</td>\n",
       "      <td>-7.711028e-01</td>\n",
       "      <td>-6.847340e-01</td>\n",
       "      <td>-9.320600e-01</td>\n",
       "      <td>-4.497569e-01</td>\n",
       "      <td>...</td>\n",
       "      <td>0.000000</td>\n",
       "      <td>0.000000</td>\n",
       "      <td>0.000000</td>\n",
       "      <td>0.000000</td>\n",
       "      <td>0.000000</td>\n",
       "      <td>0.000000</td>\n",
       "      <td>0.000000</td>\n",
       "      <td>0.000000</td>\n",
       "      <td>0.000000</td>\n",
       "      <td>0.000000</td>\n",
       "    </tr>\n",
       "    <tr>\n",
       "      <th>50%</th>\n",
       "      <td>1.701590e-01</td>\n",
       "      <td>8.874120e-01</td>\n",
       "      <td>-3.405307e-01</td>\n",
       "      <td>-1.128552e-01</td>\n",
       "      <td>-1.993522e-01</td>\n",
       "      <td>6.112865e-02</td>\n",
       "      <td>-2.478347e-01</td>\n",
       "      <td>-3.663447e-01</td>\n",
       "      <td>9.948427e-03</td>\n",
       "      <td>6.399437e-02</td>\n",
       "      <td>...</td>\n",
       "      <td>0.000000</td>\n",
       "      <td>0.000000</td>\n",
       "      <td>0.000000</td>\n",
       "      <td>0.000000</td>\n",
       "      <td>0.000000</td>\n",
       "      <td>0.000000</td>\n",
       "      <td>0.000000</td>\n",
       "      <td>0.000000</td>\n",
       "      <td>0.000000</td>\n",
       "      <td>0.000000</td>\n",
       "    </tr>\n",
       "    <tr>\n",
       "      <th>75%</th>\n",
       "      <td>1.701590e-01</td>\n",
       "      <td>8.874120e-01</td>\n",
       "      <td>4.505882e-01</td>\n",
       "      <td>7.076008e-01</td>\n",
       "      <td>4.804736e-01</td>\n",
       "      <td>7.414732e-01</td>\n",
       "      <td>7.203955e-01</td>\n",
       "      <td>3.928914e-01</td>\n",
       "      <td>8.942829e-01</td>\n",
       "      <td>4.814173e-01</td>\n",
       "      <td>...</td>\n",
       "      <td>0.000000</td>\n",
       "      <td>0.000000</td>\n",
       "      <td>0.000000</td>\n",
       "      <td>0.000000</td>\n",
       "      <td>0.000000</td>\n",
       "      <td>0.000000</td>\n",
       "      <td>0.000000</td>\n",
       "      <td>0.000000</td>\n",
       "      <td>0.000000</td>\n",
       "      <td>0.000000</td>\n",
       "    </tr>\n",
       "    <tr>\n",
       "      <th>max</th>\n",
       "      <td>1.848278e+00</td>\n",
       "      <td>8.874120e-01</td>\n",
       "      <td>2.874442e+00</td>\n",
       "      <td>2.324616e+00</td>\n",
       "      <td>2.927846e+00</td>\n",
       "      <td>2.287711e+00</td>\n",
       "      <td>2.812547e+00</td>\n",
       "      <td>4.923816e+00</td>\n",
       "      <td>2.432256e+00</td>\n",
       "      <td>2.953845e+00</td>\n",
       "      <td>...</td>\n",
       "      <td>1.000000</td>\n",
       "      <td>1.000000</td>\n",
       "      <td>1.000000</td>\n",
       "      <td>1.000000</td>\n",
       "      <td>1.000000</td>\n",
       "      <td>1.000000</td>\n",
       "      <td>1.000000</td>\n",
       "      <td>1.000000</td>\n",
       "      <td>1.000000</td>\n",
       "      <td>1.000000</td>\n",
       "    </tr>\n",
       "  </tbody>\n",
       "</table>\n",
       "<p>8 rows × 67 columns</p>\n",
       "</div>"
      ],
      "text/plain": [
       "          symboling    doornumber     wheelbase     carlength      carwidth  \\\n",
       "count  1.430000e+02  1.430000e+02  1.430000e+02  1.430000e+02  1.430000e+02   \n",
       "mean   5.473477e-17  9.006005e-17  1.538785e-15  2.003060e-16 -4.093074e-15   \n",
       "std    1.003515e+00  1.003515e+00  1.003515e+00  1.003515e+00  1.003515e+00   \n",
       "min   -2.347020e+00 -1.126872e+00 -2.006930e+00 -2.574223e+00 -2.510760e+00   \n",
       "25%   -6.689008e-01 -1.126872e+00 -6.771770e-01 -6.186702e-01 -8.565171e-01   \n",
       "50%    1.701590e-01  8.874120e-01 -3.405307e-01 -1.128552e-01 -1.993522e-01   \n",
       "75%    1.701590e-01  8.874120e-01  4.505882e-01  7.076008e-01  4.804736e-01   \n",
       "max    1.848278e+00  8.874120e-01  2.874442e+00  2.324616e+00  2.927846e+00   \n",
       "\n",
       "          carheight    curbweight    enginesize     boreratio        stroke  \\\n",
       "count  1.430000e+02  1.430000e+02  1.430000e+02  1.430000e+02  1.430000e+02   \n",
       "mean   5.450186e-16 -1.894367e-16 -4.308908e-17 -1.059758e-15  2.155230e-15   \n",
       "std    1.003515e+00  1.003515e+00  1.003515e+00  1.003515e+00  1.003515e+00   \n",
       "min   -2.371619e+00 -1.937401e+00 -1.566427e+00 -2.412359e+00 -3.403827e+00   \n",
       "25%   -7.222984e-01 -7.711028e-01 -6.847340e-01 -9.320600e-01 -4.497569e-01   \n",
       "50%    6.112865e-02 -2.478347e-01 -3.663447e-01  9.948427e-03  6.399437e-02   \n",
       "75%    7.414732e-01  7.203955e-01  3.928914e-01  8.942829e-01  4.814173e-01   \n",
       "max    2.287711e+00  2.812547e+00  4.923816e+00  2.432256e+00  2.953845e+00   \n",
       "\n",
       "       ...  car_company_nissan  car_company_peugeot  car_company_plymouth  \\\n",
       "count  ...          143.000000           143.000000            143.000000   \n",
       "mean   ...            0.097902             0.055944              0.027972   \n",
       "std    ...            0.298227             0.230621              0.165472   \n",
       "min    ...            0.000000             0.000000              0.000000   \n",
       "25%    ...            0.000000             0.000000              0.000000   \n",
       "50%    ...            0.000000             0.000000              0.000000   \n",
       "75%    ...            0.000000             0.000000              0.000000   \n",
       "max    ...            1.000000             1.000000              1.000000   \n",
       "\n",
       "       car_company_porsche  car_company_renault  car_company_saab  \\\n",
       "count           143.000000           143.000000        143.000000   \n",
       "mean              0.020979             0.013986          0.020979   \n",
       "std               0.143818             0.117845          0.143818   \n",
       "min               0.000000             0.000000          0.000000   \n",
       "25%               0.000000             0.000000          0.000000   \n",
       "50%               0.000000             0.000000          0.000000   \n",
       "75%               0.000000             0.000000          0.000000   \n",
       "max               1.000000             1.000000          1.000000   \n",
       "\n",
       "       car_company_subaru  car_company_toyota  car_company_volkswagen  \\\n",
       "count          143.000000          143.000000              143.000000   \n",
       "mean             0.076923            0.139860                0.048951   \n",
       "std              0.267406            0.348061                0.216524   \n",
       "min              0.000000            0.000000                0.000000   \n",
       "25%              0.000000            0.000000                0.000000   \n",
       "50%              0.000000            0.000000                0.000000   \n",
       "75%              0.000000            0.000000                0.000000   \n",
       "max              1.000000            1.000000                1.000000   \n",
       "\n",
       "       car_company_volvo  \n",
       "count         143.000000  \n",
       "mean            0.041958  \n",
       "std             0.201198  \n",
       "min             0.000000  \n",
       "25%             0.000000  \n",
       "50%             0.000000  \n",
       "75%             0.000000  \n",
       "max             1.000000  \n",
       "\n",
       "[8 rows x 67 columns]"
      ]
     },
     "execution_count": 135,
     "metadata": {},
     "output_type": "execute_result"
    }
   ],
   "source": [
    "df_train.describe()"
   ]
  },
  {
   "cell_type": "markdown",
   "metadata": {},
   "source": [
    "### 🏢 `Model building` :\n",
    "\n",
    "> 1️⃣  **`Model building using LinearRegression`** :"
   ]
  },
  {
   "cell_type": "code",
   "execution_count": 136,
   "metadata": {
    "execution": {
     "iopub.execute_input": "2022-03-16T20:22:38.834224Z",
     "iopub.status.busy": "2022-03-16T20:22:38.833843Z",
     "iopub.status.idle": "2022-03-16T20:22:38.840642Z",
     "shell.execute_reply": "2022-03-16T20:22:38.839364Z",
     "shell.execute_reply.started": "2022-03-16T20:22:38.834187Z"
    }
   },
   "outputs": [],
   "source": [
    "y_train = df_train.pop('price')\n",
    "X_train = df_train"
   ]
  },
  {
   "cell_type": "code",
   "execution_count": 137,
   "metadata": {
    "execution": {
     "iopub.execute_input": "2022-03-16T20:22:41.319518Z",
     "iopub.status.busy": "2022-03-16T20:22:41.319235Z",
     "iopub.status.idle": "2022-03-16T20:22:41.344602Z",
     "shell.execute_reply": "2022-03-16T20:22:41.343621Z",
     "shell.execute_reply.started": "2022-03-16T20:22:41.319488Z"
    }
   },
   "outputs": [],
   "source": [
    "lr = LinearRegression()\n",
    "model = lr.fit(X_train, y_train)"
   ]
  },
  {
   "cell_type": "markdown",
   "metadata": {},
   "source": [
    "> The **intercept** (often labeled the constant) is the expected mean value of **Y** when all **X=0**. "
   ]
  },
  {
   "cell_type": "code",
   "execution_count": 138,
   "metadata": {
    "execution": {
     "iopub.execute_input": "2022-03-16T20:22:44.870931Z",
     "iopub.status.busy": "2022-03-16T20:22:44.870635Z",
     "iopub.status.idle": "2022-03-16T20:22:44.877011Z",
     "shell.execute_reply": "2022-03-16T20:22:44.87639Z",
     "shell.execute_reply.started": "2022-03-16T20:22:44.870876Z"
    }
   },
   "outputs": [
    {
     "data": {
      "text/plain": [
       "-1187495157381.5845"
      ]
     },
     "execution_count": 138,
     "metadata": {},
     "output_type": "execute_result"
    }
   ],
   "source": [
    "model.intercept_"
   ]
  },
  {
   "cell_type": "code",
   "execution_count": 139,
   "metadata": {
    "execution": {
     "iopub.execute_input": "2022-03-16T20:22:47.821174Z",
     "iopub.status.busy": "2022-03-16T20:22:47.820317Z",
     "iopub.status.idle": "2022-03-16T20:22:47.827975Z",
     "shell.execute_reply": "2022-03-16T20:22:47.827346Z",
     "shell.execute_reply.started": "2022-03-16T20:22:47.821132Z"
    }
   },
   "outputs": [
    {
     "data": {
      "text/plain": [
       "array([ 2.04990680e-03,  2.01631005e-02,  2.46819414e-01, -1.53595533e-01,\n",
       "        2.28795647e-01, -1.71674335e-01,  3.71603671e-01,  6.13172834e-01,\n",
       "       -1.52837200e-01, -3.83457025e-02, -6.84410715e-01, -1.56336693e-01,\n",
       "        1.95641961e-01,  9.69406448e-02,  8.06541459e-02, -2.15714432e+12,\n",
       "       -7.64298733e+11,  1.59173115e+11,  1.59173115e+11,  4.69439371e+11,\n",
       "        4.69439371e+11,  4.69439371e+11,  4.69439371e+11,  4.69439371e+11,\n",
       "        4.57429612e+11,  4.57429612e+11,  4.57429612e+11,  9.65829997e+11,\n",
       "        1.89208630e+11,  6.22826345e+11,  6.22826345e+11,  6.22826345e+11,\n",
       "        6.22826345e+11,  1.39944771e+12,  6.22826345e+11,  6.22826345e+11,\n",
       "       -3.77945354e+11, -3.77945354e+11, -3.77945354e+11,  1.01490023e+12,\n",
       "       -1.77511501e+09, -3.77945354e+11, -3.77945354e+11,  3.86424863e+07,\n",
       "       -3.44959195e+11, -3.44959195e+11, -3.44959195e+11, -3.44959195e+11,\n",
       "       -3.44959195e+11, -3.44959195e+11, -3.44959195e+11, -3.44959195e+11,\n",
       "       -3.44959195e+11, -3.44959195e+11,  0.00000000e+00, -3.44959195e+11,\n",
       "       -3.44959195e+11, -3.44959195e+11, -3.44959195e+11, -3.44959195e+11,\n",
       "       -3.44959195e+11, -3.44959195e+11, -1.12158056e+12, -3.44959195e+11,\n",
       "       -3.44959195e+11, -3.44959195e+11])"
      ]
     },
     "execution_count": 139,
     "metadata": {},
     "output_type": "execute_result"
    }
   ],
   "source": [
    "model.coef_"
   ]
  },
  {
   "cell_type": "markdown",
   "metadata": {},
   "source": [
    "> So linear equation for price can be given as: $ Price = 0.9 + 2.04990680e-03 × symboling + ...$"
   ]
  },
  {
   "cell_type": "code",
   "execution_count": 140,
   "metadata": {
    "execution": {
     "iopub.execute_input": "2022-03-16T20:23:09.466997Z",
     "iopub.status.busy": "2022-03-16T20:23:09.466622Z",
     "iopub.status.idle": "2022-03-16T20:23:09.480533Z",
     "shell.execute_reply": "2022-03-16T20:23:09.479861Z",
     "shell.execute_reply.started": "2022-03-16T20:23:09.466963Z"
    }
   },
   "outputs": [],
   "source": [
    "df_test[col_list] = scaler.transform(df_test[col_list])\n",
    "y_test = df_test.pop('price')\n",
    "X_test = df_test"
   ]
  },
  {
   "cell_type": "code",
   "execution_count": 141,
   "metadata": {
    "execution": {
     "iopub.execute_input": "2022-03-16T20:23:14.38124Z",
     "iopub.status.busy": "2022-03-16T20:23:14.380967Z",
     "iopub.status.idle": "2022-03-16T20:23:14.389826Z",
     "shell.execute_reply": "2022-03-16T20:23:14.388748Z",
     "shell.execute_reply.started": "2022-03-16T20:23:14.381207Z"
    }
   },
   "outputs": [],
   "source": [
    "y_pred = model.predict(X_test)"
   ]
  },
  {
   "cell_type": "markdown",
   "metadata": {},
   "source": [
    "> **`Evaluating the LinearRegression Model`** :"
   ]
  },
  {
   "cell_type": "code",
   "execution_count": 142,
   "metadata": {
    "execution": {
     "iopub.execute_input": "2022-03-16T20:23:17.269618Z",
     "iopub.status.busy": "2022-03-16T20:23:17.268972Z",
     "iopub.status.idle": "2022-03-16T20:23:17.273854Z",
     "shell.execute_reply": "2022-03-16T20:23:17.273182Z",
     "shell.execute_reply.started": "2022-03-16T20:23:17.269579Z"
    }
   },
   "outputs": [],
   "source": [
    "import sklearn\n",
    "mse = sklearn.metrics.mean_squared_error(y_test,y_pred)"
   ]
  },
  {
   "cell_type": "markdown",
   "metadata": {},
   "source": [
    "> The **mean squared error** $MSE$ tells us how **close** a **regression line** is to a **set of points**. It does this by taking the distances from the points to the regression line (these distances are the “**errors**”) and squaring them. The squaring is necessary to remove any negative signs."
   ]
  },
  {
   "cell_type": "code",
   "execution_count": 143,
   "metadata": {
    "execution": {
     "iopub.execute_input": "2022-03-16T20:23:19.885701Z",
     "iopub.status.busy": "2022-03-16T20:23:19.885063Z",
     "iopub.status.idle": "2022-03-16T20:23:19.892003Z",
     "shell.execute_reply": "2022-03-16T20:23:19.890825Z",
     "shell.execute_reply.started": "2022-03-16T20:23:19.885653Z"
    }
   },
   "outputs": [
    {
     "data": {
      "text/plain": [
       "6.506012857385675e+21"
      ]
     },
     "execution_count": 143,
     "metadata": {},
     "output_type": "execute_result"
    }
   ],
   "source": [
    "mse"
   ]
  },
  {
   "cell_type": "code",
   "execution_count": 144,
   "metadata": {
    "execution": {
     "iopub.execute_input": "2022-03-16T20:23:22.941568Z",
     "iopub.status.busy": "2022-03-16T20:23:22.941295Z",
     "iopub.status.idle": "2022-03-16T20:23:22.947892Z",
     "shell.execute_reply": "2022-03-16T20:23:22.94714Z",
     "shell.execute_reply.started": "2022-03-16T20:23:22.941539Z"
    }
   },
   "outputs": [
    {
     "data": {
      "text/plain": [
       "-5.622910404502248e+21"
      ]
     },
     "execution_count": 144,
     "metadata": {},
     "output_type": "execute_result"
    }
   ],
   "source": [
    "r_squ = r2_score(y_test,y_pred)\n",
    "r_squ"
   ]
  },
  {
   "cell_type": "markdown",
   "metadata": {},
   "source": [
    "2️⃣  **`Model building using RFE`** :\n",
    "> Given an external estimator that assigns weights to features (e.g., the coefficients of a linear model), the goal of **recursive feature elimination** $RFE$ is to select features by **recursively considering smaller and smaller sets of features**. First, the estimator is **trained** on the **initial set of features** and the **importance** of each feature is obtained either through any **specific attribute** or **callable**. Then, the **least important** features are **pruned from current set of features**. That procedure is recursively repeated on the pruned set until the desired number of features to select is eventually reached."
   ]
  },
  {
   "cell_type": "code",
   "execution_count": 145,
   "metadata": {
    "execution": {
     "iopub.execute_input": "2022-03-16T20:23:31.035045Z",
     "iopub.status.busy": "2022-03-16T20:23:31.034406Z",
     "iopub.status.idle": "2022-03-16T20:23:31.247026Z",
     "shell.execute_reply": "2022-03-16T20:23:31.245915Z",
     "shell.execute_reply.started": "2022-03-16T20:23:31.034998Z"
    }
   },
   "outputs": [],
   "source": [
    "LRmodel = LinearRegression()\n",
    "rfe = RFE(LRmodel, n_features_to_select=5, step=1)\n",
    "rfe = rfe.fit(X_train, y_train)"
   ]
  },
  {
   "cell_type": "code",
   "execution_count": 146,
   "metadata": {
    "execution": {
     "iopub.execute_input": "2022-03-16T20:23:37.387255Z",
     "iopub.status.busy": "2022-03-16T20:23:37.386708Z",
     "iopub.status.idle": "2022-03-16T20:23:37.392696Z",
     "shell.execute_reply": "2022-03-16T20:23:37.391965Z",
     "shell.execute_reply.started": "2022-03-16T20:23:37.38722Z"
    }
   },
   "outputs": [
    {
     "data": {
      "text/plain": [
       "5"
      ]
     },
     "execution_count": 146,
     "metadata": {},
     "output_type": "execute_result"
    }
   ],
   "source": [
    "rfe.n_features_"
   ]
  },
  {
   "cell_type": "code",
   "execution_count": 147,
   "metadata": {
    "execution": {
     "iopub.execute_input": "2022-03-16T20:23:40.831764Z",
     "iopub.status.busy": "2022-03-16T20:23:40.831436Z",
     "iopub.status.idle": "2022-03-16T20:23:40.846202Z",
     "shell.execute_reply": "2022-03-16T20:23:40.844982Z",
     "shell.execute_reply.started": "2022-03-16T20:23:40.831733Z"
    }
   },
   "outputs": [
    {
     "data": {
      "text/plain": [
       "[('symboling', False, 61),\n",
       " ('doornumber', False, 60),\n",
       " ('wheelbase', False, 36),\n",
       " ('carlength', False, 38),\n",
       " ('carwidth', False, 5),\n",
       " ('carheight', False, 37),\n",
       " ('curbweight', False, 16),\n",
       " ('enginesize', False, 13),\n",
       " ('boreratio', False, 34),\n",
       " ('stroke', False, 59),\n",
       " ('compressionratio', False, 20),\n",
       " ('horsepower', False, 43),\n",
       " ('peakrpm', False, 31),\n",
       " ('citympg', False, 28),\n",
       " ('highwaympg', False, 46),\n",
       " ('fueltype_diesel', False, 19),\n",
       " ('fueltype_gas', False, 18),\n",
       " ('aspiration_std', False, 15),\n",
       " ('aspiration_turbo', False, 40),\n",
       " ('carbody_convertible', False, 7),\n",
       " ('carbody_hardtop', False, 44),\n",
       " ('carbody_hatchback', False, 39),\n",
       " ('carbody_sedan', False, 45),\n",
       " ('carbody_wagon', False, 53),\n",
       " ('drivewheel_4wd', False, 56),\n",
       " ('drivewheel_fwd', False, 47),\n",
       " ('drivewheel_rwd', False, 49),\n",
       " ('enginelocation_front', True, 1),\n",
       " ('enginelocation_rear', True, 1),\n",
       " ('enginetype_dohc', False, 24),\n",
       " ('enginetype_dohcv', False, 25),\n",
       " ('enginetype_l', False, 3),\n",
       " ('enginetype_ohc', False, 22),\n",
       " ('enginetype_ohcf', False, 27),\n",
       " ('enginetype_ohcv', False, 23),\n",
       " ('enginetype_rotor', False, 9),\n",
       " ('fuelsystem_1bbl', False, 52),\n",
       " ('fuelsystem_2bbl', False, 48),\n",
       " ('fuelsystem_4bbl', False, 10),\n",
       " ('fuelsystem_idi', False, 17),\n",
       " ('fuelsystem_mfi', False, 58),\n",
       " ('fuelsystem_mpfi', False, 35),\n",
       " ('fuelsystem_spdi', False, 26),\n",
       " ('fuelsystem_spfi', False, 57),\n",
       " ('car_company_alfa-romero', False, 4),\n",
       " ('car_company_audi', False, 55),\n",
       " ('car_company_bmw', True, 1),\n",
       " ('car_company_buick', True, 1),\n",
       " ('car_company_chevrolet', False, 32),\n",
       " ('car_company_dodge', False, 29),\n",
       " ('car_company_honda', False, 30),\n",
       " ('car_company_isuzu', False, 41),\n",
       " ('car_company_jaguar', True, 1),\n",
       " ('car_company_mazda', False, 50),\n",
       " ('car_company_mercury', False, 62),\n",
       " ('car_company_mitsubishi', False, 14),\n",
       " ('car_company_nissan', False, 42),\n",
       " ('car_company_peugeot', False, 2),\n",
       " ('car_company_plymouth', False, 33),\n",
       " ('car_company_porsche', False, 6),\n",
       " ('car_company_renault', False, 8),\n",
       " ('car_company_saab', False, 12),\n",
       " ('car_company_subaru', False, 21),\n",
       " ('car_company_toyota', False, 51),\n",
       " ('car_company_volkswagen', False, 54),\n",
       " ('car_company_volvo', False, 11)]"
      ]
     },
     "execution_count": 147,
     "metadata": {},
     "output_type": "execute_result"
    }
   ],
   "source": [
    "list(zip(X_train.columns, rfe.support_ ,rfe.ranking_))"
   ]
  },
  {
   "cell_type": "code",
   "execution_count": 148,
   "metadata": {
    "execution": {
     "iopub.execute_input": "2022-03-16T20:23:47.40803Z",
     "iopub.status.busy": "2022-03-16T20:23:47.406971Z",
     "iopub.status.idle": "2022-03-16T20:23:47.416318Z",
     "shell.execute_reply": "2022-03-16T20:23:47.414817Z",
     "shell.execute_reply.started": "2022-03-16T20:23:47.407956Z"
    }
   },
   "outputs": [
    {
     "data": {
      "text/plain": [
       "Index(['enginelocation_front', 'enginelocation_rear', 'car_company_bmw',\n",
       "       'car_company_buick', 'car_company_jaguar'],\n",
       "      dtype='object')"
      ]
     },
     "execution_count": 148,
     "metadata": {},
     "output_type": "execute_result"
    }
   ],
   "source": [
    "cols = X_train.columns[rfe.support_]\n",
    "cols"
   ]
  },
  {
   "cell_type": "markdown",
   "metadata": {},
   "source": [
    "> **`Model 1 : RFE with 5 features `** :"
   ]
  },
  {
   "cell_type": "code",
   "execution_count": 149,
   "metadata": {
    "execution": {
     "iopub.execute_input": "2022-03-16T20:23:50.936687Z",
     "iopub.status.busy": "2022-03-16T20:23:50.935739Z",
     "iopub.status.idle": "2022-03-16T20:23:50.946133Z",
     "shell.execute_reply": "2022-03-16T20:23:50.945009Z",
     "shell.execute_reply.started": "2022-03-16T20:23:50.936645Z"
    }
   },
   "outputs": [],
   "source": [
    "X_test2 = X_test[cols]                                                                                                                            \n",
    "y_pred2 = rfe.predict(X_test)"
   ]
  },
  {
   "cell_type": "code",
   "execution_count": 150,
   "metadata": {
    "execution": {
     "iopub.execute_input": "2022-03-16T20:23:57.512664Z",
     "iopub.status.busy": "2022-03-16T20:23:57.512334Z",
     "iopub.status.idle": "2022-03-16T20:23:57.520995Z",
     "shell.execute_reply": "2022-03-16T20:23:57.520328Z",
     "shell.execute_reply.started": "2022-03-16T20:23:57.512633Z"
    }
   },
   "outputs": [
    {
     "name": "stdout",
     "output_type": "stream",
     "text": [
      "The Mean Squares Error is:  0.3522655268808265\n",
      "The R-2 score is:  0.6955497107576271\n",
      "The previous Mean Squares Error was: 4.430416020688372e+22\n",
      "The previous R-2 score was: -3.829047511137639e+22\n"
     ]
    }
   ],
   "source": [
    "import sklearn\n",
    "\n",
    "mse = sklearn.metrics.mean_squared_error(y_test, y_pred2)\n",
    "print(\"The Mean Squares Error is: \", mse)\n",
    "print(\"The R-2 score is: \", r2_score(y_test, y_pred2))\n",
    "print(\"The previous Mean Squares Error was: 4.430416020688372e+22\")\n",
    "print(\"The previous R-2 score was: -3.829047511137639e+22\")"
   ]
  },
  {
   "cell_type": "markdown",
   "metadata": {},
   "source": [
    "> With $RFE$ electing the **5** best features for us, we can see that the scores have **improved** a lot."
   ]
  },
  {
   "cell_type": "markdown",
   "metadata": {},
   "source": [
    "> **`Model 2 : RFE with 10 features `** :"
   ]
  },
  {
   "cell_type": "code",
   "execution_count": 151,
   "metadata": {
    "execution": {
     "iopub.execute_input": "2022-03-16T20:24:38.576494Z",
     "iopub.status.busy": "2022-03-16T20:24:38.575357Z",
     "iopub.status.idle": "2022-03-16T20:24:38.734944Z",
     "shell.execute_reply": "2022-03-16T20:24:38.733952Z",
     "shell.execute_reply.started": "2022-03-16T20:24:38.57642Z"
    }
   },
   "outputs": [
    {
     "name": "stdout",
     "output_type": "stream",
     "text": [
      "The Mean Squares Error is:  0.15969736652255329\n",
      "The R-2 score is:  0.8619793714714383\n"
     ]
    }
   ],
   "source": [
    "import sklearn\n",
    "\n",
    "LRmodel = LinearRegression()\n",
    "rfe = RFE(LRmodel, n_features_to_select=10, step=1)\n",
    "rfe = rfe.fit(X_train, y_train)\n",
    "rfe.n_features_\n",
    "y_pred_ = rfe.predict(X_test)\n",
    "\n",
    "\n",
    "mse = sklearn.metrics.mean_squared_error(y_test, y_pred_)\n",
    "print(\"The Mean Squares Error is: \", mse)\n",
    "print(\"The R-2 score is: \", r2_score(y_test, y_pred_))"
   ]
  },
  {
   "cell_type": "code",
   "execution_count": 152,
   "metadata": {
    "execution": {
     "iopub.execute_input": "2022-03-16T20:24:48.353109Z",
     "iopub.status.busy": "2022-03-16T20:24:48.352822Z",
     "iopub.status.idle": "2022-03-16T20:24:48.360659Z",
     "shell.execute_reply": "2022-03-16T20:24:48.360006Z",
     "shell.execute_reply.started": "2022-03-16T20:24:48.353081Z"
    }
   },
   "outputs": [
    {
     "data": {
      "text/plain": [
       "Index(['carwidth', 'enginelocation_front', 'enginelocation_rear',\n",
       "       'enginetype_l', 'car_company_alfa-romero', 'car_company_bmw',\n",
       "       'car_company_buick', 'car_company_jaguar', 'car_company_peugeot',\n",
       "       'car_company_porsche'],\n",
       "      dtype='object')"
      ]
     },
     "execution_count": 152,
     "metadata": {},
     "output_type": "execute_result"
    }
   ],
   "source": [
    "cols = X_train.columns[rfe.support_]\n",
    "cols"
   ]
  },
  {
   "cell_type": "markdown",
   "metadata": {},
   "source": [
    "> 🤔 Which **variables** are **significant** in **predicting** the **price** of a car ?"
   ]
  },
  {
   "cell_type": "code",
   "execution_count": 153,
   "metadata": {
    "execution": {
     "iopub.execute_input": "2022-03-16T20:24:54.335601Z",
     "iopub.status.busy": "2022-03-16T20:24:54.335181Z",
     "iopub.status.idle": "2022-03-16T20:24:54.347331Z",
     "shell.execute_reply": "2022-03-16T20:24:54.346598Z",
     "shell.execute_reply.started": "2022-03-16T20:24:54.335569Z"
    }
   },
   "outputs": [
    {
     "data": {
      "text/plain": [
       "[('symboling', False, 56),\n",
       " ('doornumber', False, 55),\n",
       " ('wheelbase', False, 31),\n",
       " ('carlength', False, 33),\n",
       " ('carwidth', True, 1),\n",
       " ('carheight', False, 32),\n",
       " ('curbweight', False, 11),\n",
       " ('enginesize', False, 8),\n",
       " ('boreratio', False, 29),\n",
       " ('stroke', False, 54),\n",
       " ('compressionratio', False, 15),\n",
       " ('horsepower', False, 38),\n",
       " ('peakrpm', False, 26),\n",
       " ('citympg', False, 23),\n",
       " ('highwaympg', False, 41),\n",
       " ('fueltype_diesel', False, 14),\n",
       " ('fueltype_gas', False, 13),\n",
       " ('aspiration_std', False, 10),\n",
       " ('aspiration_turbo', False, 35),\n",
       " ('carbody_convertible', False, 2),\n",
       " ('carbody_hardtop', False, 39),\n",
       " ('carbody_hatchback', False, 34),\n",
       " ('carbody_sedan', False, 40),\n",
       " ('carbody_wagon', False, 48),\n",
       " ('drivewheel_4wd', False, 51),\n",
       " ('drivewheel_fwd', False, 42),\n",
       " ('drivewheel_rwd', False, 44),\n",
       " ('enginelocation_front', True, 1),\n",
       " ('enginelocation_rear', True, 1),\n",
       " ('enginetype_dohc', False, 19),\n",
       " ('enginetype_dohcv', False, 20),\n",
       " ('enginetype_l', True, 1),\n",
       " ('enginetype_ohc', False, 17),\n",
       " ('enginetype_ohcf', False, 22),\n",
       " ('enginetype_ohcv', False, 18),\n",
       " ('enginetype_rotor', False, 4),\n",
       " ('fuelsystem_1bbl', False, 47),\n",
       " ('fuelsystem_2bbl', False, 43),\n",
       " ('fuelsystem_4bbl', False, 5),\n",
       " ('fuelsystem_idi', False, 12),\n",
       " ('fuelsystem_mfi', False, 53),\n",
       " ('fuelsystem_mpfi', False, 30),\n",
       " ('fuelsystem_spdi', False, 21),\n",
       " ('fuelsystem_spfi', False, 52),\n",
       " ('car_company_alfa-romero', True, 1),\n",
       " ('car_company_audi', False, 50),\n",
       " ('car_company_bmw', True, 1),\n",
       " ('car_company_buick', True, 1),\n",
       " ('car_company_chevrolet', False, 27),\n",
       " ('car_company_dodge', False, 24),\n",
       " ('car_company_honda', False, 25),\n",
       " ('car_company_isuzu', False, 36),\n",
       " ('car_company_jaguar', True, 1),\n",
       " ('car_company_mazda', False, 45),\n",
       " ('car_company_mercury', False, 57),\n",
       " ('car_company_mitsubishi', False, 9),\n",
       " ('car_company_nissan', False, 37),\n",
       " ('car_company_peugeot', True, 1),\n",
       " ('car_company_plymouth', False, 28),\n",
       " ('car_company_porsche', True, 1),\n",
       " ('car_company_renault', False, 3),\n",
       " ('car_company_saab', False, 7),\n",
       " ('car_company_subaru', False, 16),\n",
       " ('car_company_toyota', False, 46),\n",
       " ('car_company_volkswagen', False, 49),\n",
       " ('car_company_volvo', False, 6)]"
      ]
     },
     "execution_count": 153,
     "metadata": {},
     "output_type": "execute_result"
    }
   ],
   "source": [
    "list(zip(X_train.columns,rfe.support_,rfe.ranking_))"
   ]
  },
  {
   "cell_type": "code",
   "execution_count": 154,
   "metadata": {
    "execution": {
     "iopub.execute_input": "2022-03-16T20:27:25.050852Z",
     "iopub.status.busy": "2022-03-16T20:27:25.050238Z",
     "iopub.status.idle": "2022-03-16T20:27:25.05896Z",
     "shell.execute_reply": "2022-03-16T20:27:25.058319Z",
     "shell.execute_reply.started": "2022-03-16T20:27:25.050815Z"
    }
   },
   "outputs": [
    {
     "data": {
      "text/plain": [
       "[('carwidth', True, 1),\n",
       " ('enginelocation_front', True, 1),\n",
       " ('enginelocation_rear', True, 1),\n",
       " ('enginetype_l', True, 1),\n",
       " ('car_company_alfa-romero', True, 1),\n",
       " ('car_company_bmw', True, 1),\n",
       " ('car_company_buick', True, 1),\n",
       " ('car_company_jaguar', True, 1),\n",
       " ('car_company_peugeot', True, 1),\n",
       " ('car_company_porsche', True, 1)]"
      ]
     },
     "execution_count": 154,
     "metadata": {},
     "output_type": "execute_result"
    }
   ],
   "source": [
    "# Let's loop over our list where we have True :\n",
    "[value for index,value in enumerate(list(zip(X_train.columns,rfe.support_,rfe.ranking_))) if value[2] == True]"
   ]
  },
  {
   "cell_type": "markdown",
   "metadata": {},
   "source": [
    "> These are the variables that are significant in predicting the price of a car :\n",
    "> - **carwidth**\n",
    "> - **enginelocation_front**\n",
    "> - **enginelocation_rear**\n",
    "> - **enginetype_l**\n",
    "> - **car_company_alfa-romero**\n",
    "> - **car_company_bmw**\n",
    "> - **car_company_buick**\n",
    "> - **car_company_jaguar**\n",
    "> - **car_company_peugeot**\n",
    "> - **car_company_porsche**"
   ]
  }
 ],
 "metadata": {
  "kernelspec": {
   "display_name": "Python 3 (ipykernel)",
   "language": "python",
   "name": "python3"
  },
  "language_info": {
   "codemirror_mode": {
    "name": "ipython",
    "version": 3
   },
   "file_extension": ".py",
   "mimetype": "text/x-python",
   "name": "python",
   "nbconvert_exporter": "python",
   "pygments_lexer": "ipython3",
   "version": "3.9.12"
  }
 },
 "nbformat": 4,
 "nbformat_minor": 4
}
